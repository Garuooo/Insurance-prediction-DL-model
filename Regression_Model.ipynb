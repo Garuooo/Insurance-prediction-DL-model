{
  "nbformat": 4,
  "nbformat_minor": 0,
  "metadata": {
    "colab": {
      "provenance": [],
      "authorship_tag": "ABX9TyPw61TMB7LcSqlnqeu9DPpV",
      "include_colab_link": true
    },
    "kernelspec": {
      "name": "python3",
      "display_name": "Python 3"
    },
    "language_info": {
      "name": "python"
    }
  },
  "cells": [
    {
      "cell_type": "markdown",
      "metadata": {
        "id": "view-in-github",
        "colab_type": "text"
      },
      "source": [
        "<a href=\"https://colab.research.google.com/github/Garuooo/Insurance-prediction-DL-model/blob/main/Regression_Model.ipynb\" target=\"_parent\"><img src=\"https://colab.research.google.com/assets/colab-badge.svg\" alt=\"Open In Colab\"/></a>"
      ]
    },
    {
      "cell_type": "markdown",
      "source": [
        "# 1. import the required depencies\n"
      ],
      "metadata": {
        "id": "PgJlmSO7ERHa"
      }
    },
    {
      "cell_type": "code",
      "execution_count": 1,
      "metadata": {
        "id": "6dfhXEGVDUj0"
      },
      "outputs": [],
      "source": [
        "import pandas as pd\n",
        "import numpy as np\n",
        "import tensorflow as tf\n",
        "import matplotlib.pyplot as plt\n",
        "from sklearn.model_selection import train_test_split"
      ]
    },
    {
      "cell_type": "markdown",
      "source": [
        "# 2. get and preprocess the data"
      ],
      "metadata": {
        "id": "jhxgrlALEWFT"
      }
    },
    {
      "cell_type": "code",
      "source": [
        "csv = pd.read_csv(\"https://raw.githubusercontent.com/stedy/Machine-Learning-with-R-datasets/master/insurance.csv\")\n",
        "csv"
      ],
      "metadata": {
        "colab": {
          "base_uri": "https://localhost:8080/",
          "height": 424
        },
        "id": "56uDhsJfDVYc",
        "outputId": "61a812f8-69d3-4cdb-ce1a-a3b4f8a34c07"
      },
      "execution_count": 2,
      "outputs": [
        {
          "output_type": "execute_result",
          "data": {
            "text/plain": [
              "      age     sex     bmi  children smoker     region      charges\n",
              "0      19  female  27.900         0    yes  southwest  16884.92400\n",
              "1      18    male  33.770         1     no  southeast   1725.55230\n",
              "2      28    male  33.000         3     no  southeast   4449.46200\n",
              "3      33    male  22.705         0     no  northwest  21984.47061\n",
              "4      32    male  28.880         0     no  northwest   3866.85520\n",
              "...   ...     ...     ...       ...    ...        ...          ...\n",
              "1333   50    male  30.970         3     no  northwest  10600.54830\n",
              "1334   18  female  31.920         0     no  northeast   2205.98080\n",
              "1335   18  female  36.850         0     no  southeast   1629.83350\n",
              "1336   21  female  25.800         0     no  southwest   2007.94500\n",
              "1337   61  female  29.070         0    yes  northwest  29141.36030\n",
              "\n",
              "[1338 rows x 7 columns]"
            ],
            "text/html": [
              "\n",
              "  <div id=\"df-e2aa328f-facf-46a5-8764-45318ce47bd3\">\n",
              "    <div class=\"colab-df-container\">\n",
              "      <div>\n",
              "<style scoped>\n",
              "    .dataframe tbody tr th:only-of-type {\n",
              "        vertical-align: middle;\n",
              "    }\n",
              "\n",
              "    .dataframe tbody tr th {\n",
              "        vertical-align: top;\n",
              "    }\n",
              "\n",
              "    .dataframe thead th {\n",
              "        text-align: right;\n",
              "    }\n",
              "</style>\n",
              "<table border=\"1\" class=\"dataframe\">\n",
              "  <thead>\n",
              "    <tr style=\"text-align: right;\">\n",
              "      <th></th>\n",
              "      <th>age</th>\n",
              "      <th>sex</th>\n",
              "      <th>bmi</th>\n",
              "      <th>children</th>\n",
              "      <th>smoker</th>\n",
              "      <th>region</th>\n",
              "      <th>charges</th>\n",
              "    </tr>\n",
              "  </thead>\n",
              "  <tbody>\n",
              "    <tr>\n",
              "      <th>0</th>\n",
              "      <td>19</td>\n",
              "      <td>female</td>\n",
              "      <td>27.900</td>\n",
              "      <td>0</td>\n",
              "      <td>yes</td>\n",
              "      <td>southwest</td>\n",
              "      <td>16884.92400</td>\n",
              "    </tr>\n",
              "    <tr>\n",
              "      <th>1</th>\n",
              "      <td>18</td>\n",
              "      <td>male</td>\n",
              "      <td>33.770</td>\n",
              "      <td>1</td>\n",
              "      <td>no</td>\n",
              "      <td>southeast</td>\n",
              "      <td>1725.55230</td>\n",
              "    </tr>\n",
              "    <tr>\n",
              "      <th>2</th>\n",
              "      <td>28</td>\n",
              "      <td>male</td>\n",
              "      <td>33.000</td>\n",
              "      <td>3</td>\n",
              "      <td>no</td>\n",
              "      <td>southeast</td>\n",
              "      <td>4449.46200</td>\n",
              "    </tr>\n",
              "    <tr>\n",
              "      <th>3</th>\n",
              "      <td>33</td>\n",
              "      <td>male</td>\n",
              "      <td>22.705</td>\n",
              "      <td>0</td>\n",
              "      <td>no</td>\n",
              "      <td>northwest</td>\n",
              "      <td>21984.47061</td>\n",
              "    </tr>\n",
              "    <tr>\n",
              "      <th>4</th>\n",
              "      <td>32</td>\n",
              "      <td>male</td>\n",
              "      <td>28.880</td>\n",
              "      <td>0</td>\n",
              "      <td>no</td>\n",
              "      <td>northwest</td>\n",
              "      <td>3866.85520</td>\n",
              "    </tr>\n",
              "    <tr>\n",
              "      <th>...</th>\n",
              "      <td>...</td>\n",
              "      <td>...</td>\n",
              "      <td>...</td>\n",
              "      <td>...</td>\n",
              "      <td>...</td>\n",
              "      <td>...</td>\n",
              "      <td>...</td>\n",
              "    </tr>\n",
              "    <tr>\n",
              "      <th>1333</th>\n",
              "      <td>50</td>\n",
              "      <td>male</td>\n",
              "      <td>30.970</td>\n",
              "      <td>3</td>\n",
              "      <td>no</td>\n",
              "      <td>northwest</td>\n",
              "      <td>10600.54830</td>\n",
              "    </tr>\n",
              "    <tr>\n",
              "      <th>1334</th>\n",
              "      <td>18</td>\n",
              "      <td>female</td>\n",
              "      <td>31.920</td>\n",
              "      <td>0</td>\n",
              "      <td>no</td>\n",
              "      <td>northeast</td>\n",
              "      <td>2205.98080</td>\n",
              "    </tr>\n",
              "    <tr>\n",
              "      <th>1335</th>\n",
              "      <td>18</td>\n",
              "      <td>female</td>\n",
              "      <td>36.850</td>\n",
              "      <td>0</td>\n",
              "      <td>no</td>\n",
              "      <td>southeast</td>\n",
              "      <td>1629.83350</td>\n",
              "    </tr>\n",
              "    <tr>\n",
              "      <th>1336</th>\n",
              "      <td>21</td>\n",
              "      <td>female</td>\n",
              "      <td>25.800</td>\n",
              "      <td>0</td>\n",
              "      <td>no</td>\n",
              "      <td>southwest</td>\n",
              "      <td>2007.94500</td>\n",
              "    </tr>\n",
              "    <tr>\n",
              "      <th>1337</th>\n",
              "      <td>61</td>\n",
              "      <td>female</td>\n",
              "      <td>29.070</td>\n",
              "      <td>0</td>\n",
              "      <td>yes</td>\n",
              "      <td>northwest</td>\n",
              "      <td>29141.36030</td>\n",
              "    </tr>\n",
              "  </tbody>\n",
              "</table>\n",
              "<p>1338 rows × 7 columns</p>\n",
              "</div>\n",
              "      <button class=\"colab-df-convert\" onclick=\"convertToInteractive('df-e2aa328f-facf-46a5-8764-45318ce47bd3')\"\n",
              "              title=\"Convert this dataframe to an interactive table.\"\n",
              "              style=\"display:none;\">\n",
              "        \n",
              "  <svg xmlns=\"http://www.w3.org/2000/svg\" height=\"24px\"viewBox=\"0 0 24 24\"\n",
              "       width=\"24px\">\n",
              "    <path d=\"M0 0h24v24H0V0z\" fill=\"none\"/>\n",
              "    <path d=\"M18.56 5.44l.94 2.06.94-2.06 2.06-.94-2.06-.94-.94-2.06-.94 2.06-2.06.94zm-11 1L8.5 8.5l.94-2.06 2.06-.94-2.06-.94L8.5 2.5l-.94 2.06-2.06.94zm10 10l.94 2.06.94-2.06 2.06-.94-2.06-.94-.94-2.06-.94 2.06-2.06.94z\"/><path d=\"M17.41 7.96l-1.37-1.37c-.4-.4-.92-.59-1.43-.59-.52 0-1.04.2-1.43.59L10.3 9.45l-7.72 7.72c-.78.78-.78 2.05 0 2.83L4 21.41c.39.39.9.59 1.41.59.51 0 1.02-.2 1.41-.59l7.78-7.78 2.81-2.81c.8-.78.8-2.07 0-2.86zM5.41 20L4 18.59l7.72-7.72 1.47 1.35L5.41 20z\"/>\n",
              "  </svg>\n",
              "      </button>\n",
              "      \n",
              "  <style>\n",
              "    .colab-df-container {\n",
              "      display:flex;\n",
              "      flex-wrap:wrap;\n",
              "      gap: 12px;\n",
              "    }\n",
              "\n",
              "    .colab-df-convert {\n",
              "      background-color: #E8F0FE;\n",
              "      border: none;\n",
              "      border-radius: 50%;\n",
              "      cursor: pointer;\n",
              "      display: none;\n",
              "      fill: #1967D2;\n",
              "      height: 32px;\n",
              "      padding: 0 0 0 0;\n",
              "      width: 32px;\n",
              "    }\n",
              "\n",
              "    .colab-df-convert:hover {\n",
              "      background-color: #E2EBFA;\n",
              "      box-shadow: 0px 1px 2px rgba(60, 64, 67, 0.3), 0px 1px 3px 1px rgba(60, 64, 67, 0.15);\n",
              "      fill: #174EA6;\n",
              "    }\n",
              "\n",
              "    [theme=dark] .colab-df-convert {\n",
              "      background-color: #3B4455;\n",
              "      fill: #D2E3FC;\n",
              "    }\n",
              "\n",
              "    [theme=dark] .colab-df-convert:hover {\n",
              "      background-color: #434B5C;\n",
              "      box-shadow: 0px 1px 3px 1px rgba(0, 0, 0, 0.15);\n",
              "      filter: drop-shadow(0px 1px 2px rgba(0, 0, 0, 0.3));\n",
              "      fill: #FFFFFF;\n",
              "    }\n",
              "  </style>\n",
              "\n",
              "      <script>\n",
              "        const buttonEl =\n",
              "          document.querySelector('#df-e2aa328f-facf-46a5-8764-45318ce47bd3 button.colab-df-convert');\n",
              "        buttonEl.style.display =\n",
              "          google.colab.kernel.accessAllowed ? 'block' : 'none';\n",
              "\n",
              "        async function convertToInteractive(key) {\n",
              "          const element = document.querySelector('#df-e2aa328f-facf-46a5-8764-45318ce47bd3');\n",
              "          const dataTable =\n",
              "            await google.colab.kernel.invokeFunction('convertToInteractive',\n",
              "                                                     [key], {});\n",
              "          if (!dataTable) return;\n",
              "\n",
              "          const docLinkHtml = 'Like what you see? Visit the ' +\n",
              "            '<a target=\"_blank\" href=https://colab.research.google.com/notebooks/data_table.ipynb>data table notebook</a>'\n",
              "            + ' to learn more about interactive tables.';\n",
              "          element.innerHTML = '';\n",
              "          dataTable['output_type'] = 'display_data';\n",
              "          await google.colab.output.renderOutput(dataTable, element);\n",
              "          const docLink = document.createElement('div');\n",
              "          docLink.innerHTML = docLinkHtml;\n",
              "          element.appendChild(docLink);\n",
              "        }\n",
              "      </script>\n",
              "    </div>\n",
              "  </div>\n",
              "  "
            ]
          },
          "metadata": {},
          "execution_count": 2
        }
      ]
    },
    {
      "cell_type": "code",
      "source": [
        "# normalize the data\n",
        "csv[\"bmi\"] = csv[\"bmi\"] / csv['bmi'].max()\n",
        "csv[\"age\"] = csv[\"age\"] / 100\n",
        "max_charges= csv['charges'].max()\n",
        "csv[\"charges\"] = csv[\"charges\"]/max_charges"
      ],
      "metadata": {
        "id": "hbHkxbNHDWh0"
      },
      "execution_count": 3,
      "outputs": []
    },
    {
      "cell_type": "code",
      "source": [
        "# do one hot encoding\n",
        "csv= pd.get_dummies(csv)"
      ],
      "metadata": {
        "id": "1loDAvHFDd9O"
      },
      "execution_count": 4,
      "outputs": []
    },
    {
      "cell_type": "code",
      "source": [
        "csv"
      ],
      "metadata": {
        "colab": {
          "base_uri": "https://localhost:8080/",
          "height": 424
        },
        "id": "TFKtED2fDlkV",
        "outputId": "1f86e7f3-df5f-4c1b-db63-be6b41160886"
      },
      "execution_count": 5,
      "outputs": [
        {
          "output_type": "execute_result",
          "data": {
            "text/plain": [
              "       age       bmi  children   charges  sex_female  sex_male  smoker_no  \\\n",
              "0     0.19  0.525127         0  0.264777           1         0          0   \n",
              "1     0.18  0.635611         1  0.027059           0         1          1   \n",
              "2     0.28  0.621118         3  0.069773           0         1          1   \n",
              "3     0.33  0.427348         0  0.344744           0         1          1   \n",
              "4     0.32  0.543572         0  0.060637           0         1          1   \n",
              "...    ...       ...       ...       ...         ...       ...        ...   \n",
              "1333  0.50  0.582910         3  0.166230           0         1          1   \n",
              "1334  0.18  0.600791         0  0.034593           1         0          1   \n",
              "1335  0.18  0.693582         0  0.025558           1         0          1   \n",
              "1336  0.21  0.485601         0  0.031487           1         0          1   \n",
              "1337  0.61  0.547149         0  0.456973           1         0          0   \n",
              "\n",
              "      smoker_yes  region_northeast  region_northwest  region_southeast  \\\n",
              "0              1                 0                 0                 0   \n",
              "1              0                 0                 0                 1   \n",
              "2              0                 0                 0                 1   \n",
              "3              0                 0                 1                 0   \n",
              "4              0                 0                 1                 0   \n",
              "...          ...               ...               ...               ...   \n",
              "1333           0                 0                 1                 0   \n",
              "1334           0                 1                 0                 0   \n",
              "1335           0                 0                 0                 1   \n",
              "1336           0                 0                 0                 0   \n",
              "1337           1                 0                 1                 0   \n",
              "\n",
              "      region_southwest  \n",
              "0                    1  \n",
              "1                    0  \n",
              "2                    0  \n",
              "3                    0  \n",
              "4                    0  \n",
              "...                ...  \n",
              "1333                 0  \n",
              "1334                 0  \n",
              "1335                 0  \n",
              "1336                 1  \n",
              "1337                 0  \n",
              "\n",
              "[1338 rows x 12 columns]"
            ],
            "text/html": [
              "\n",
              "  <div id=\"df-013d7547-2fff-4ab5-91dc-2899130b8c58\">\n",
              "    <div class=\"colab-df-container\">\n",
              "      <div>\n",
              "<style scoped>\n",
              "    .dataframe tbody tr th:only-of-type {\n",
              "        vertical-align: middle;\n",
              "    }\n",
              "\n",
              "    .dataframe tbody tr th {\n",
              "        vertical-align: top;\n",
              "    }\n",
              "\n",
              "    .dataframe thead th {\n",
              "        text-align: right;\n",
              "    }\n",
              "</style>\n",
              "<table border=\"1\" class=\"dataframe\">\n",
              "  <thead>\n",
              "    <tr style=\"text-align: right;\">\n",
              "      <th></th>\n",
              "      <th>age</th>\n",
              "      <th>bmi</th>\n",
              "      <th>children</th>\n",
              "      <th>charges</th>\n",
              "      <th>sex_female</th>\n",
              "      <th>sex_male</th>\n",
              "      <th>smoker_no</th>\n",
              "      <th>smoker_yes</th>\n",
              "      <th>region_northeast</th>\n",
              "      <th>region_northwest</th>\n",
              "      <th>region_southeast</th>\n",
              "      <th>region_southwest</th>\n",
              "    </tr>\n",
              "  </thead>\n",
              "  <tbody>\n",
              "    <tr>\n",
              "      <th>0</th>\n",
              "      <td>0.19</td>\n",
              "      <td>0.525127</td>\n",
              "      <td>0</td>\n",
              "      <td>0.264777</td>\n",
              "      <td>1</td>\n",
              "      <td>0</td>\n",
              "      <td>0</td>\n",
              "      <td>1</td>\n",
              "      <td>0</td>\n",
              "      <td>0</td>\n",
              "      <td>0</td>\n",
              "      <td>1</td>\n",
              "    </tr>\n",
              "    <tr>\n",
              "      <th>1</th>\n",
              "      <td>0.18</td>\n",
              "      <td>0.635611</td>\n",
              "      <td>1</td>\n",
              "      <td>0.027059</td>\n",
              "      <td>0</td>\n",
              "      <td>1</td>\n",
              "      <td>1</td>\n",
              "      <td>0</td>\n",
              "      <td>0</td>\n",
              "      <td>0</td>\n",
              "      <td>1</td>\n",
              "      <td>0</td>\n",
              "    </tr>\n",
              "    <tr>\n",
              "      <th>2</th>\n",
              "      <td>0.28</td>\n",
              "      <td>0.621118</td>\n",
              "      <td>3</td>\n",
              "      <td>0.069773</td>\n",
              "      <td>0</td>\n",
              "      <td>1</td>\n",
              "      <td>1</td>\n",
              "      <td>0</td>\n",
              "      <td>0</td>\n",
              "      <td>0</td>\n",
              "      <td>1</td>\n",
              "      <td>0</td>\n",
              "    </tr>\n",
              "    <tr>\n",
              "      <th>3</th>\n",
              "      <td>0.33</td>\n",
              "      <td>0.427348</td>\n",
              "      <td>0</td>\n",
              "      <td>0.344744</td>\n",
              "      <td>0</td>\n",
              "      <td>1</td>\n",
              "      <td>1</td>\n",
              "      <td>0</td>\n",
              "      <td>0</td>\n",
              "      <td>1</td>\n",
              "      <td>0</td>\n",
              "      <td>0</td>\n",
              "    </tr>\n",
              "    <tr>\n",
              "      <th>4</th>\n",
              "      <td>0.32</td>\n",
              "      <td>0.543572</td>\n",
              "      <td>0</td>\n",
              "      <td>0.060637</td>\n",
              "      <td>0</td>\n",
              "      <td>1</td>\n",
              "      <td>1</td>\n",
              "      <td>0</td>\n",
              "      <td>0</td>\n",
              "      <td>1</td>\n",
              "      <td>0</td>\n",
              "      <td>0</td>\n",
              "    </tr>\n",
              "    <tr>\n",
              "      <th>...</th>\n",
              "      <td>...</td>\n",
              "      <td>...</td>\n",
              "      <td>...</td>\n",
              "      <td>...</td>\n",
              "      <td>...</td>\n",
              "      <td>...</td>\n",
              "      <td>...</td>\n",
              "      <td>...</td>\n",
              "      <td>...</td>\n",
              "      <td>...</td>\n",
              "      <td>...</td>\n",
              "      <td>...</td>\n",
              "    </tr>\n",
              "    <tr>\n",
              "      <th>1333</th>\n",
              "      <td>0.50</td>\n",
              "      <td>0.582910</td>\n",
              "      <td>3</td>\n",
              "      <td>0.166230</td>\n",
              "      <td>0</td>\n",
              "      <td>1</td>\n",
              "      <td>1</td>\n",
              "      <td>0</td>\n",
              "      <td>0</td>\n",
              "      <td>1</td>\n",
              "      <td>0</td>\n",
              "      <td>0</td>\n",
              "    </tr>\n",
              "    <tr>\n",
              "      <th>1334</th>\n",
              "      <td>0.18</td>\n",
              "      <td>0.600791</td>\n",
              "      <td>0</td>\n",
              "      <td>0.034593</td>\n",
              "      <td>1</td>\n",
              "      <td>0</td>\n",
              "      <td>1</td>\n",
              "      <td>0</td>\n",
              "      <td>1</td>\n",
              "      <td>0</td>\n",
              "      <td>0</td>\n",
              "      <td>0</td>\n",
              "    </tr>\n",
              "    <tr>\n",
              "      <th>1335</th>\n",
              "      <td>0.18</td>\n",
              "      <td>0.693582</td>\n",
              "      <td>0</td>\n",
              "      <td>0.025558</td>\n",
              "      <td>1</td>\n",
              "      <td>0</td>\n",
              "      <td>1</td>\n",
              "      <td>0</td>\n",
              "      <td>0</td>\n",
              "      <td>0</td>\n",
              "      <td>1</td>\n",
              "      <td>0</td>\n",
              "    </tr>\n",
              "    <tr>\n",
              "      <th>1336</th>\n",
              "      <td>0.21</td>\n",
              "      <td>0.485601</td>\n",
              "      <td>0</td>\n",
              "      <td>0.031487</td>\n",
              "      <td>1</td>\n",
              "      <td>0</td>\n",
              "      <td>1</td>\n",
              "      <td>0</td>\n",
              "      <td>0</td>\n",
              "      <td>0</td>\n",
              "      <td>0</td>\n",
              "      <td>1</td>\n",
              "    </tr>\n",
              "    <tr>\n",
              "      <th>1337</th>\n",
              "      <td>0.61</td>\n",
              "      <td>0.547149</td>\n",
              "      <td>0</td>\n",
              "      <td>0.456973</td>\n",
              "      <td>1</td>\n",
              "      <td>0</td>\n",
              "      <td>0</td>\n",
              "      <td>1</td>\n",
              "      <td>0</td>\n",
              "      <td>1</td>\n",
              "      <td>0</td>\n",
              "      <td>0</td>\n",
              "    </tr>\n",
              "  </tbody>\n",
              "</table>\n",
              "<p>1338 rows × 12 columns</p>\n",
              "</div>\n",
              "      <button class=\"colab-df-convert\" onclick=\"convertToInteractive('df-013d7547-2fff-4ab5-91dc-2899130b8c58')\"\n",
              "              title=\"Convert this dataframe to an interactive table.\"\n",
              "              style=\"display:none;\">\n",
              "        \n",
              "  <svg xmlns=\"http://www.w3.org/2000/svg\" height=\"24px\"viewBox=\"0 0 24 24\"\n",
              "       width=\"24px\">\n",
              "    <path d=\"M0 0h24v24H0V0z\" fill=\"none\"/>\n",
              "    <path d=\"M18.56 5.44l.94 2.06.94-2.06 2.06-.94-2.06-.94-.94-2.06-.94 2.06-2.06.94zm-11 1L8.5 8.5l.94-2.06 2.06-.94-2.06-.94L8.5 2.5l-.94 2.06-2.06.94zm10 10l.94 2.06.94-2.06 2.06-.94-2.06-.94-.94-2.06-.94 2.06-2.06.94z\"/><path d=\"M17.41 7.96l-1.37-1.37c-.4-.4-.92-.59-1.43-.59-.52 0-1.04.2-1.43.59L10.3 9.45l-7.72 7.72c-.78.78-.78 2.05 0 2.83L4 21.41c.39.39.9.59 1.41.59.51 0 1.02-.2 1.41-.59l7.78-7.78 2.81-2.81c.8-.78.8-2.07 0-2.86zM5.41 20L4 18.59l7.72-7.72 1.47 1.35L5.41 20z\"/>\n",
              "  </svg>\n",
              "      </button>\n",
              "      \n",
              "  <style>\n",
              "    .colab-df-container {\n",
              "      display:flex;\n",
              "      flex-wrap:wrap;\n",
              "      gap: 12px;\n",
              "    }\n",
              "\n",
              "    .colab-df-convert {\n",
              "      background-color: #E8F0FE;\n",
              "      border: none;\n",
              "      border-radius: 50%;\n",
              "      cursor: pointer;\n",
              "      display: none;\n",
              "      fill: #1967D2;\n",
              "      height: 32px;\n",
              "      padding: 0 0 0 0;\n",
              "      width: 32px;\n",
              "    }\n",
              "\n",
              "    .colab-df-convert:hover {\n",
              "      background-color: #E2EBFA;\n",
              "      box-shadow: 0px 1px 2px rgba(60, 64, 67, 0.3), 0px 1px 3px 1px rgba(60, 64, 67, 0.15);\n",
              "      fill: #174EA6;\n",
              "    }\n",
              "\n",
              "    [theme=dark] .colab-df-convert {\n",
              "      background-color: #3B4455;\n",
              "      fill: #D2E3FC;\n",
              "    }\n",
              "\n",
              "    [theme=dark] .colab-df-convert:hover {\n",
              "      background-color: #434B5C;\n",
              "      box-shadow: 0px 1px 3px 1px rgba(0, 0, 0, 0.15);\n",
              "      filter: drop-shadow(0px 1px 2px rgba(0, 0, 0, 0.3));\n",
              "      fill: #FFFFFF;\n",
              "    }\n",
              "  </style>\n",
              "\n",
              "      <script>\n",
              "        const buttonEl =\n",
              "          document.querySelector('#df-013d7547-2fff-4ab5-91dc-2899130b8c58 button.colab-df-convert');\n",
              "        buttonEl.style.display =\n",
              "          google.colab.kernel.accessAllowed ? 'block' : 'none';\n",
              "\n",
              "        async function convertToInteractive(key) {\n",
              "          const element = document.querySelector('#df-013d7547-2fff-4ab5-91dc-2899130b8c58');\n",
              "          const dataTable =\n",
              "            await google.colab.kernel.invokeFunction('convertToInteractive',\n",
              "                                                     [key], {});\n",
              "          if (!dataTable) return;\n",
              "\n",
              "          const docLinkHtml = 'Like what you see? Visit the ' +\n",
              "            '<a target=\"_blank\" href=https://colab.research.google.com/notebooks/data_table.ipynb>data table notebook</a>'\n",
              "            + ' to learn more about interactive tables.';\n",
              "          element.innerHTML = '';\n",
              "          dataTable['output_type'] = 'display_data';\n",
              "          await google.colab.output.renderOutput(dataTable, element);\n",
              "          const docLink = document.createElement('div');\n",
              "          docLink.innerHTML = docLinkHtml;\n",
              "          element.appendChild(docLink);\n",
              "        }\n",
              "      </script>\n",
              "    </div>\n",
              "  </div>\n",
              "  "
            ]
          },
          "metadata": {},
          "execution_count": 5
        }
      ]
    },
    {
      "cell_type": "code",
      "source": [
        "# split the data into dependent and independent features\n",
        "X = csv.drop(\"charges\",axis=1)\n",
        "y = csv[\"charges\"]"
      ],
      "metadata": {
        "id": "FxR-PoIjD7ad"
      },
      "execution_count": 6,
      "outputs": []
    },
    {
      "cell_type": "code",
      "source": [
        "X,y"
      ],
      "metadata": {
        "colab": {
          "base_uri": "https://localhost:8080/"
        },
        "id": "Y5XjaXVnEGXb",
        "outputId": "d3fa7a41-754b-4e45-b370-0ba810e83770"
      },
      "execution_count": 7,
      "outputs": [
        {
          "output_type": "execute_result",
          "data": {
            "text/plain": [
              "(       age       bmi  children  sex_female  sex_male  smoker_no  smoker_yes  \\\n",
              " 0     0.19  0.525127         0           1         0          0           1   \n",
              " 1     0.18  0.635611         1           0         1          1           0   \n",
              " 2     0.28  0.621118         3           0         1          1           0   \n",
              " 3     0.33  0.427348         0           0         1          1           0   \n",
              " 4     0.32  0.543572         0           0         1          1           0   \n",
              " ...    ...       ...       ...         ...       ...        ...         ...   \n",
              " 1333  0.50  0.582910         3           0         1          1           0   \n",
              " 1334  0.18  0.600791         0           1         0          1           0   \n",
              " 1335  0.18  0.693582         0           1         0          1           0   \n",
              " 1336  0.21  0.485601         0           1         0          1           0   \n",
              " 1337  0.61  0.547149         0           1         0          0           1   \n",
              " \n",
              "       region_northeast  region_northwest  region_southeast  region_southwest  \n",
              " 0                    0                 0                 0                 1  \n",
              " 1                    0                 0                 1                 0  \n",
              " 2                    0                 0                 1                 0  \n",
              " 3                    0                 1                 0                 0  \n",
              " 4                    0                 1                 0                 0  \n",
              " ...                ...               ...               ...               ...  \n",
              " 1333                 0                 1                 0                 0  \n",
              " 1334                 1                 0                 0                 0  \n",
              " 1335                 0                 0                 1                 0  \n",
              " 1336                 0                 0                 0                 1  \n",
              " 1337                 0                 1                 0                 0  \n",
              " \n",
              " [1338 rows x 11 columns], 0       0.264777\n",
              " 1       0.027059\n",
              " 2       0.069773\n",
              " 3       0.344744\n",
              " 4       0.060637\n",
              "           ...   \n",
              " 1333    0.166230\n",
              " 1334    0.034593\n",
              " 1335    0.025558\n",
              " 1336    0.031487\n",
              " 1337    0.456973\n",
              " Name: charges, Length: 1338, dtype: float64)"
            ]
          },
          "metadata": {},
          "execution_count": 7
        }
      ]
    },
    {
      "cell_type": "code",
      "source": [
        "# split the data into training and testing sets\n",
        "X_train,X_test,y_train,y_test=train_test_split(X,y,test_size=0.2,shuffle=True)"
      ],
      "metadata": {
        "id": "vdAQbqOwEKmN"
      },
      "execution_count": 8,
      "outputs": []
    },
    {
      "cell_type": "markdown",
      "source": [
        "# 3.create the Deep learning regression model\n"
      ],
      "metadata": {
        "id": "dGCXqcHfXM_a"
      }
    },
    {
      "cell_type": "markdown",
      "source": [],
      "metadata": {
        "id": "WdrRU_aJXLUQ"
      }
    },
    {
      "cell_type": "code",
      "source": [
        "model = tf.keras.Sequential([\n",
        "    tf.keras.layers.Dense(100,activation='relu'),\n",
        "    tf.keras.layers.Dense(100,activation='relu'),\n",
        "    tf.keras.layers.Dense(100,activation='relu'),\n",
        "    tf.keras.layers.Dense(10,activation='relu'),\n",
        "    tf.keras.layers.Dense(1,activation='linear')\n",
        "])\n",
        "model.compile(loss=tf.keras.losses.mae,optimizer=tf.keras.optimizers.Adam(lr=0.001),metrics=['mae'])\n",
        "history = model.fit(X_train,y_train,epochs=100,validation_data=(X_test,y_test))"
      ],
      "metadata": {
        "colab": {
          "base_uri": "https://localhost:8080/"
        },
        "id": "6uJ5QaZ0E8i4",
        "outputId": "ac9e4dfc-ab7e-4acf-b28c-ef2845f70e4d"
      },
      "execution_count": 9,
      "outputs": [
        {
          "output_type": "stream",
          "name": "stdout",
          "text": [
            "Epoch 1/100\n"
          ]
        },
        {
          "output_type": "stream",
          "name": "stderr",
          "text": [
            "/usr/local/lib/python3.7/dist-packages/keras/optimizers/optimizer_v2/adam.py:110: UserWarning: The `lr` argument is deprecated, use `learning_rate` instead.\n",
            "  super(Adam, self).__init__(name, **kwargs)\n"
          ]
        },
        {
          "output_type": "stream",
          "name": "stdout",
          "text": [
            "34/34 [==============================] - 2s 17ms/step - loss: 0.0987 - mae: 0.0987 - val_loss: 0.0750 - val_mae: 0.0750\n",
            "Epoch 2/100\n",
            "34/34 [==============================] - 0s 5ms/step - loss: 0.0737 - mae: 0.0737 - val_loss: 0.0644 - val_mae: 0.0644\n",
            "Epoch 3/100\n",
            "34/34 [==============================] - 0s 5ms/step - loss: 0.0590 - mae: 0.0590 - val_loss: 0.0610 - val_mae: 0.0610\n",
            "Epoch 4/100\n",
            "34/34 [==============================] - 0s 5ms/step - loss: 0.0544 - mae: 0.0544 - val_loss: 0.0570 - val_mae: 0.0570\n",
            "Epoch 5/100\n",
            "34/34 [==============================] - 0s 6ms/step - loss: 0.0519 - mae: 0.0519 - val_loss: 0.0517 - val_mae: 0.0517\n",
            "Epoch 6/100\n",
            "34/34 [==============================] - 0s 5ms/step - loss: 0.0466 - mae: 0.0466 - val_loss: 0.0543 - val_mae: 0.0543\n",
            "Epoch 7/100\n",
            "34/34 [==============================] - 0s 6ms/step - loss: 0.0440 - mae: 0.0440 - val_loss: 0.0536 - val_mae: 0.0536\n",
            "Epoch 8/100\n",
            "34/34 [==============================] - 0s 6ms/step - loss: 0.0466 - mae: 0.0466 - val_loss: 0.0537 - val_mae: 0.0537\n",
            "Epoch 9/100\n",
            "34/34 [==============================] - 0s 5ms/step - loss: 0.0469 - mae: 0.0469 - val_loss: 0.0515 - val_mae: 0.0515\n",
            "Epoch 10/100\n",
            "34/34 [==============================] - 0s 6ms/step - loss: 0.0416 - mae: 0.0416 - val_loss: 0.0490 - val_mae: 0.0490\n",
            "Epoch 11/100\n",
            "34/34 [==============================] - 0s 8ms/step - loss: 0.0429 - mae: 0.0429 - val_loss: 0.0505 - val_mae: 0.0505\n",
            "Epoch 12/100\n",
            "34/34 [==============================] - 0s 11ms/step - loss: 0.0421 - mae: 0.0421 - val_loss: 0.0545 - val_mae: 0.0545\n",
            "Epoch 13/100\n",
            "34/34 [==============================] - 0s 13ms/step - loss: 0.0435 - mae: 0.0435 - val_loss: 0.0599 - val_mae: 0.0599\n",
            "Epoch 14/100\n",
            "34/34 [==============================] - 0s 11ms/step - loss: 0.0430 - mae: 0.0430 - val_loss: 0.0463 - val_mae: 0.0463\n",
            "Epoch 15/100\n",
            "34/34 [==============================] - 0s 10ms/step - loss: 0.0387 - mae: 0.0387 - val_loss: 0.0450 - val_mae: 0.0450\n",
            "Epoch 16/100\n",
            "34/34 [==============================] - 0s 12ms/step - loss: 0.0371 - mae: 0.0371 - val_loss: 0.0438 - val_mae: 0.0438\n",
            "Epoch 17/100\n",
            "34/34 [==============================] - 0s 11ms/step - loss: 0.0382 - mae: 0.0382 - val_loss: 0.0456 - val_mae: 0.0456\n",
            "Epoch 18/100\n",
            "34/34 [==============================] - 0s 12ms/step - loss: 0.0358 - mae: 0.0358 - val_loss: 0.0429 - val_mae: 0.0429\n",
            "Epoch 19/100\n",
            "34/34 [==============================] - 0s 11ms/step - loss: 0.0375 - mae: 0.0375 - val_loss: 0.0474 - val_mae: 0.0474\n",
            "Epoch 20/100\n",
            "34/34 [==============================] - 0s 8ms/step - loss: 0.0391 - mae: 0.0391 - val_loss: 0.0438 - val_mae: 0.0438\n",
            "Epoch 21/100\n",
            "34/34 [==============================] - 0s 13ms/step - loss: 0.0337 - mae: 0.0337 - val_loss: 0.0406 - val_mae: 0.0406\n",
            "Epoch 22/100\n",
            "34/34 [==============================] - 0s 12ms/step - loss: 0.0328 - mae: 0.0328 - val_loss: 0.0410 - val_mae: 0.0410\n",
            "Epoch 23/100\n",
            "34/34 [==============================] - 0s 12ms/step - loss: 0.0330 - mae: 0.0330 - val_loss: 0.0415 - val_mae: 0.0415\n",
            "Epoch 24/100\n",
            "34/34 [==============================] - 1s 14ms/step - loss: 0.0336 - mae: 0.0336 - val_loss: 0.0391 - val_mae: 0.0391\n",
            "Epoch 25/100\n",
            "34/34 [==============================] - 1s 21ms/step - loss: 0.0328 - mae: 0.0328 - val_loss: 0.0408 - val_mae: 0.0408\n",
            "Epoch 26/100\n",
            "34/34 [==============================] - 0s 12ms/step - loss: 0.0314 - mae: 0.0314 - val_loss: 0.0408 - val_mae: 0.0408\n",
            "Epoch 27/100\n",
            "34/34 [==============================] - 0s 7ms/step - loss: 0.0316 - mae: 0.0316 - val_loss: 0.0398 - val_mae: 0.0398\n",
            "Epoch 28/100\n",
            "34/34 [==============================] - 0s 7ms/step - loss: 0.0320 - mae: 0.0320 - val_loss: 0.0398 - val_mae: 0.0398\n",
            "Epoch 29/100\n",
            "34/34 [==============================] - 0s 9ms/step - loss: 0.0309 - mae: 0.0309 - val_loss: 0.0427 - val_mae: 0.0427\n",
            "Epoch 30/100\n",
            "34/34 [==============================] - 0s 8ms/step - loss: 0.0337 - mae: 0.0337 - val_loss: 0.0402 - val_mae: 0.0402\n",
            "Epoch 31/100\n",
            "34/34 [==============================] - 0s 7ms/step - loss: 0.0315 - mae: 0.0315 - val_loss: 0.0424 - val_mae: 0.0424\n",
            "Epoch 32/100\n",
            "34/34 [==============================] - 0s 8ms/step - loss: 0.0322 - mae: 0.0322 - val_loss: 0.0413 - val_mae: 0.0413\n",
            "Epoch 33/100\n",
            "34/34 [==============================] - 0s 8ms/step - loss: 0.0320 - mae: 0.0320 - val_loss: 0.0418 - val_mae: 0.0418\n",
            "Epoch 34/100\n",
            "34/34 [==============================] - 0s 12ms/step - loss: 0.0307 - mae: 0.0307 - val_loss: 0.0386 - val_mae: 0.0386\n",
            "Epoch 35/100\n",
            "34/34 [==============================] - 0s 7ms/step - loss: 0.0305 - mae: 0.0305 - val_loss: 0.0389 - val_mae: 0.0389\n",
            "Epoch 36/100\n",
            "34/34 [==============================] - 0s 10ms/step - loss: 0.0318 - mae: 0.0318 - val_loss: 0.0417 - val_mae: 0.0417\n",
            "Epoch 37/100\n",
            "34/34 [==============================] - 0s 10ms/step - loss: 0.0310 - mae: 0.0310 - val_loss: 0.0424 - val_mae: 0.0424\n",
            "Epoch 38/100\n",
            "34/34 [==============================] - 0s 12ms/step - loss: 0.0305 - mae: 0.0305 - val_loss: 0.0462 - val_mae: 0.0462\n",
            "Epoch 39/100\n",
            "34/34 [==============================] - 0s 10ms/step - loss: 0.0314 - mae: 0.0314 - val_loss: 0.0389 - val_mae: 0.0389\n",
            "Epoch 40/100\n",
            "34/34 [==============================] - 0s 8ms/step - loss: 0.0294 - mae: 0.0294 - val_loss: 0.0399 - val_mae: 0.0399\n",
            "Epoch 41/100\n",
            "34/34 [==============================] - 0s 8ms/step - loss: 0.0294 - mae: 0.0294 - val_loss: 0.0396 - val_mae: 0.0396\n",
            "Epoch 42/100\n",
            "34/34 [==============================] - 0s 10ms/step - loss: 0.0295 - mae: 0.0295 - val_loss: 0.0400 - val_mae: 0.0400\n",
            "Epoch 43/100\n",
            "34/34 [==============================] - 0s 10ms/step - loss: 0.0298 - mae: 0.0298 - val_loss: 0.0392 - val_mae: 0.0392\n",
            "Epoch 44/100\n",
            "34/34 [==============================] - 0s 7ms/step - loss: 0.0298 - mae: 0.0298 - val_loss: 0.0379 - val_mae: 0.0379\n",
            "Epoch 45/100\n",
            "34/34 [==============================] - 0s 11ms/step - loss: 0.0291 - mae: 0.0291 - val_loss: 0.0408 - val_mae: 0.0408\n",
            "Epoch 46/100\n",
            "34/34 [==============================] - 0s 10ms/step - loss: 0.0297 - mae: 0.0297 - val_loss: 0.0371 - val_mae: 0.0371\n",
            "Epoch 47/100\n",
            "34/34 [==============================] - 0s 8ms/step - loss: 0.0280 - mae: 0.0280 - val_loss: 0.0384 - val_mae: 0.0384\n",
            "Epoch 48/100\n",
            "34/34 [==============================] - 0s 9ms/step - loss: 0.0293 - mae: 0.0293 - val_loss: 0.0367 - val_mae: 0.0367\n",
            "Epoch 49/100\n",
            "34/34 [==============================] - 0s 11ms/step - loss: 0.0287 - mae: 0.0287 - val_loss: 0.0344 - val_mae: 0.0344\n",
            "Epoch 50/100\n",
            "34/34 [==============================] - 0s 9ms/step - loss: 0.0271 - mae: 0.0271 - val_loss: 0.0348 - val_mae: 0.0348\n",
            "Epoch 51/100\n",
            "34/34 [==============================] - 0s 13ms/step - loss: 0.0276 - mae: 0.0276 - val_loss: 0.0358 - val_mae: 0.0358\n",
            "Epoch 52/100\n",
            "34/34 [==============================] - 0s 8ms/step - loss: 0.0282 - mae: 0.0282 - val_loss: 0.0359 - val_mae: 0.0359\n",
            "Epoch 53/100\n",
            "34/34 [==============================] - 0s 9ms/step - loss: 0.0281 - mae: 0.0281 - val_loss: 0.0370 - val_mae: 0.0370\n",
            "Epoch 54/100\n",
            "34/34 [==============================] - 0s 9ms/step - loss: 0.0290 - mae: 0.0290 - val_loss: 0.0386 - val_mae: 0.0386\n",
            "Epoch 55/100\n",
            "34/34 [==============================] - 0s 8ms/step - loss: 0.0272 - mae: 0.0272 - val_loss: 0.0361 - val_mae: 0.0361\n",
            "Epoch 56/100\n",
            "34/34 [==============================] - 0s 9ms/step - loss: 0.0257 - mae: 0.0257 - val_loss: 0.0372 - val_mae: 0.0372\n",
            "Epoch 57/100\n",
            "34/34 [==============================] - 0s 10ms/step - loss: 0.0286 - mae: 0.0286 - val_loss: 0.0395 - val_mae: 0.0395\n",
            "Epoch 58/100\n",
            "34/34 [==============================] - 0s 12ms/step - loss: 0.0279 - mae: 0.0279 - val_loss: 0.0363 - val_mae: 0.0363\n",
            "Epoch 59/100\n",
            "34/34 [==============================] - 0s 9ms/step - loss: 0.0279 - mae: 0.0279 - val_loss: 0.0371 - val_mae: 0.0371\n",
            "Epoch 60/100\n",
            "34/34 [==============================] - 0s 9ms/step - loss: 0.0280 - mae: 0.0280 - val_loss: 0.0380 - val_mae: 0.0380\n",
            "Epoch 61/100\n",
            "34/34 [==============================] - 0s 8ms/step - loss: 0.0279 - mae: 0.0279 - val_loss: 0.0392 - val_mae: 0.0392\n",
            "Epoch 62/100\n",
            "34/34 [==============================] - 1s 16ms/step - loss: 0.0280 - mae: 0.0280 - val_loss: 0.0360 - val_mae: 0.0360\n",
            "Epoch 63/100\n",
            "34/34 [==============================] - 0s 11ms/step - loss: 0.0276 - mae: 0.0276 - val_loss: 0.0353 - val_mae: 0.0353\n",
            "Epoch 64/100\n",
            "34/34 [==============================] - 0s 12ms/step - loss: 0.0266 - mae: 0.0266 - val_loss: 0.0381 - val_mae: 0.0381\n",
            "Epoch 65/100\n",
            "34/34 [==============================] - 0s 11ms/step - loss: 0.0267 - mae: 0.0267 - val_loss: 0.0344 - val_mae: 0.0344\n",
            "Epoch 66/100\n",
            "34/34 [==============================] - 0s 11ms/step - loss: 0.0253 - mae: 0.0253 - val_loss: 0.0363 - val_mae: 0.0363\n",
            "Epoch 67/100\n",
            "34/34 [==============================] - 0s 13ms/step - loss: 0.0262 - mae: 0.0262 - val_loss: 0.0372 - val_mae: 0.0372\n",
            "Epoch 68/100\n",
            "34/34 [==============================] - 0s 12ms/step - loss: 0.0259 - mae: 0.0259 - val_loss: 0.0350 - val_mae: 0.0350\n",
            "Epoch 69/100\n",
            "34/34 [==============================] - 0s 5ms/step - loss: 0.0264 - mae: 0.0264 - val_loss: 0.0361 - val_mae: 0.0361\n",
            "Epoch 70/100\n",
            "34/34 [==============================] - 0s 4ms/step - loss: 0.0269 - mae: 0.0269 - val_loss: 0.0380 - val_mae: 0.0380\n",
            "Epoch 71/100\n",
            "34/34 [==============================] - 0s 5ms/step - loss: 0.0261 - mae: 0.0261 - val_loss: 0.0338 - val_mae: 0.0338\n",
            "Epoch 72/100\n",
            "34/34 [==============================] - 0s 4ms/step - loss: 0.0258 - mae: 0.0258 - val_loss: 0.0366 - val_mae: 0.0366\n",
            "Epoch 73/100\n",
            "34/34 [==============================] - 0s 4ms/step - loss: 0.0286 - mae: 0.0286 - val_loss: 0.0346 - val_mae: 0.0346\n",
            "Epoch 74/100\n",
            "34/34 [==============================] - 0s 5ms/step - loss: 0.0276 - mae: 0.0276 - val_loss: 0.0399 - val_mae: 0.0399\n",
            "Epoch 75/100\n",
            "34/34 [==============================] - 0s 4ms/step - loss: 0.0268 - mae: 0.0268 - val_loss: 0.0358 - val_mae: 0.0358\n",
            "Epoch 76/100\n",
            "34/34 [==============================] - 0s 4ms/step - loss: 0.0283 - mae: 0.0283 - val_loss: 0.0333 - val_mae: 0.0333\n",
            "Epoch 77/100\n",
            "34/34 [==============================] - 0s 4ms/step - loss: 0.0276 - mae: 0.0276 - val_loss: 0.0363 - val_mae: 0.0363\n",
            "Epoch 78/100\n",
            "34/34 [==============================] - 0s 4ms/step - loss: 0.0272 - mae: 0.0272 - val_loss: 0.0367 - val_mae: 0.0367\n",
            "Epoch 79/100\n",
            "34/34 [==============================] - 0s 4ms/step - loss: 0.0242 - mae: 0.0242 - val_loss: 0.0353 - val_mae: 0.0353\n",
            "Epoch 80/100\n",
            "34/34 [==============================] - 0s 5ms/step - loss: 0.0255 - mae: 0.0255 - val_loss: 0.0390 - val_mae: 0.0390\n",
            "Epoch 81/100\n",
            "34/34 [==============================] - 0s 4ms/step - loss: 0.0273 - mae: 0.0273 - val_loss: 0.0348 - val_mae: 0.0348\n",
            "Epoch 82/100\n",
            "34/34 [==============================] - 0s 4ms/step - loss: 0.0270 - mae: 0.0270 - val_loss: 0.0405 - val_mae: 0.0405\n",
            "Epoch 83/100\n",
            "34/34 [==============================] - 0s 4ms/step - loss: 0.0278 - mae: 0.0278 - val_loss: 0.0355 - val_mae: 0.0355\n",
            "Epoch 84/100\n",
            "34/34 [==============================] - 0s 5ms/step - loss: 0.0249 - mae: 0.0249 - val_loss: 0.0338 - val_mae: 0.0338\n",
            "Epoch 85/100\n",
            "34/34 [==============================] - 0s 5ms/step - loss: 0.0259 - mae: 0.0259 - val_loss: 0.0378 - val_mae: 0.0378\n",
            "Epoch 86/100\n",
            "34/34 [==============================] - 0s 4ms/step - loss: 0.0256 - mae: 0.0256 - val_loss: 0.0317 - val_mae: 0.0317\n",
            "Epoch 87/100\n",
            "34/34 [==============================] - 0s 5ms/step - loss: 0.0250 - mae: 0.0250 - val_loss: 0.0370 - val_mae: 0.0370\n",
            "Epoch 88/100\n",
            "34/34 [==============================] - 0s 5ms/step - loss: 0.0270 - mae: 0.0270 - val_loss: 0.0354 - val_mae: 0.0354\n",
            "Epoch 89/100\n",
            "34/34 [==============================] - 0s 4ms/step - loss: 0.0264 - mae: 0.0264 - val_loss: 0.0371 - val_mae: 0.0371\n",
            "Epoch 90/100\n",
            "34/34 [==============================] - 0s 5ms/step - loss: 0.0264 - mae: 0.0264 - val_loss: 0.0358 - val_mae: 0.0358\n",
            "Epoch 91/100\n",
            "34/34 [==============================] - 0s 4ms/step - loss: 0.0247 - mae: 0.0247 - val_loss: 0.0355 - val_mae: 0.0355\n",
            "Epoch 92/100\n",
            "34/34 [==============================] - 0s 4ms/step - loss: 0.0249 - mae: 0.0249 - val_loss: 0.0353 - val_mae: 0.0353\n",
            "Epoch 93/100\n",
            "34/34 [==============================] - 0s 5ms/step - loss: 0.0263 - mae: 0.0263 - val_loss: 0.0378 - val_mae: 0.0378\n",
            "Epoch 94/100\n",
            "34/34 [==============================] - 0s 4ms/step - loss: 0.0248 - mae: 0.0248 - val_loss: 0.0358 - val_mae: 0.0358\n",
            "Epoch 95/100\n",
            "34/34 [==============================] - 0s 4ms/step - loss: 0.0257 - mae: 0.0257 - val_loss: 0.0345 - val_mae: 0.0345\n",
            "Epoch 96/100\n",
            "34/34 [==============================] - 0s 4ms/step - loss: 0.0265 - mae: 0.0265 - val_loss: 0.0360 - val_mae: 0.0360\n",
            "Epoch 97/100\n",
            "34/34 [==============================] - 0s 4ms/step - loss: 0.0268 - mae: 0.0268 - val_loss: 0.0356 - val_mae: 0.0356\n",
            "Epoch 98/100\n",
            "34/34 [==============================] - 0s 4ms/step - loss: 0.0259 - mae: 0.0259 - val_loss: 0.0331 - val_mae: 0.0331\n",
            "Epoch 99/100\n",
            "34/34 [==============================] - 0s 4ms/step - loss: 0.0244 - mae: 0.0244 - val_loss: 0.0357 - val_mae: 0.0357\n",
            "Epoch 100/100\n",
            "34/34 [==============================] - 0s 5ms/step - loss: 0.0239 - mae: 0.0239 - val_loss: 0.0343 - val_mae: 0.0343\n"
          ]
        }
      ]
    },
    {
      "cell_type": "code",
      "source": [
        "model.summary()"
      ],
      "metadata": {
        "colab": {
          "base_uri": "https://localhost:8080/"
        },
        "id": "b9WNDOGbGRTj",
        "outputId": "2bec4c76-7ad2-43c1-9a42-5cba02dc5fd7"
      },
      "execution_count": 10,
      "outputs": [
        {
          "output_type": "stream",
          "name": "stdout",
          "text": [
            "Model: \"sequential\"\n",
            "_________________________________________________________________\n",
            " Layer (type)                Output Shape              Param #   \n",
            "=================================================================\n",
            " dense (Dense)               (None, 100)               1200      \n",
            "                                                                 \n",
            " dense_1 (Dense)             (None, 100)               10100     \n",
            "                                                                 \n",
            " dense_2 (Dense)             (None, 100)               10100     \n",
            "                                                                 \n",
            " dense_3 (Dense)             (None, 10)                1010      \n",
            "                                                                 \n",
            " dense_4 (Dense)             (None, 1)                 11        \n",
            "                                                                 \n",
            "=================================================================\n",
            "Total params: 22,421\n",
            "Trainable params: 22,421\n",
            "Non-trainable params: 0\n",
            "_________________________________________________________________\n"
          ]
        }
      ]
    },
    {
      "cell_type": "markdown",
      "source": [
        "# 4. Evaluate the Model"
      ],
      "metadata": {
        "id": "DfI8nniuUBXx"
      }
    },
    {
      "cell_type": "code",
      "source": [
        "pd.DataFrame(history.history).plot()"
      ],
      "metadata": {
        "colab": {
          "base_uri": "https://localhost:8080/",
          "height": 282
        },
        "id": "y5-HmsMwFUXO",
        "outputId": "1421b44b-16a8-4652-9075-3acdfd6b2c1f"
      },
      "execution_count": 11,
      "outputs": [
        {
          "output_type": "execute_result",
          "data": {
            "text/plain": [
              "<matplotlib.axes._subplots.AxesSubplot at 0x7ff3e63c1610>"
            ]
          },
          "metadata": {},
          "execution_count": 11
        },
        {
          "output_type": "display_data",
          "data": {
            "text/plain": [
              "<Figure size 432x288 with 1 Axes>"
            ],
            "image/png": "[encoded data removed]"
          },
          "metadata": {
            "needs_background": "light"
          }
        }
      ]
    },
    {
      "cell_type": "code",
      "source": [
        "model.evaluate(X_test,y_test)"
      ],
      "metadata": {
        "colab": {
          "base_uri": "https://localhost:8080/"
        },
        "id": "Kbvhtn90FiFU",
        "outputId": "46f86d45-32b2-4aef-ce9b-588d99b0af6e"
      },
      "execution_count": 12,
      "outputs": [
        {
          "output_type": "stream",
          "name": "stdout",
          "text": [
            "9/9 [==============================] - 0s 2ms/step - loss: 0.0343 - mae: 0.0343\n"
          ]
        },
        {
          "output_type": "execute_result",
          "data": {
            "text/plain": [
              "[0.03432660177350044, 0.03432660177350044]"
            ]
          },
          "metadata": {},
          "execution_count": 12
        }
      ]
    },
    {
      "cell_type": "code",
      "source": [
        "model.predict(tf.expand_dims(tf.constant(X_test)[4],axis=0))"
      ],
      "metadata": {
        "colab": {
          "base_uri": "https://localhost:8080/"
        },
        "id": "Yo5f5s9FGESl",
        "outputId": "fd0896f7-a016-4503-fa9c-bd3b26d56077"
      },
      "execution_count": 13,
      "outputs": [
        {
          "output_type": "stream",
          "name": "stdout",
          "text": [
            "1/1 [==============================] - 0s 101ms/step\n"
          ]
        },
        {
          "output_type": "execute_result",
          "data": {
            "text/plain": [
              "array([[0.13942045]], dtype=float32)"
            ]
          },
          "metadata": {},
          "execution_count": 13
        }
      ]
    },
    {
      "cell_type": "code",
      "source": [
        "np.array(y_test)[4]"
      ],
      "metadata": {
        "colab": {
          "base_uri": "https://localhost:8080/"
        },
        "id": "RxpXD3ZaIAM_",
        "outputId": "5dcb3b7f-c8e3-46de-8905-9bb7180fa909"
      },
      "execution_count": 14,
      "outputs": [
        {
          "output_type": "execute_result",
          "data": {
            "text/plain": [
              "0.13797293313791575"
            ]
          },
          "metadata": {},
          "execution_count": 14
        }
      ]
    },
    {
      "cell_type": "code",
      "source": [
        "np.array(y_test)[0] * max_charges"
      ],
      "metadata": {
        "colab": {
          "base_uri": "https://localhost:8080/"
        },
        "id": "06h7ipOrIJBF",
        "outputId": "ad27513c-2ec5-4898-8329-5c6a7efbf71f"
      },
      "execution_count": 15,
      "outputs": [
        {
          "output_type": "execute_result",
          "data": {
            "text/plain": [
              "13981.85035"
            ]
          },
          "metadata": {},
          "execution_count": 15
        }
      ]
    },
    {
      "cell_type": "code",
      "source": [
        "model.predict(tf.expand_dims(tf.constant(X_test)[0],axis=0)) * max_charges"
      ],
      "metadata": {
        "colab": {
          "base_uri": "https://localhost:8080/"
        },
        "id": "1Kd-OiyhIptc",
        "outputId": "f4d57857-483d-402a-822e-6ed3b430c251"
      },
      "execution_count": 16,
      "outputs": [
        {
          "output_type": "stream",
          "name": "stdout",
          "text": [
            "1/1 [==============================] - 0s 23ms/step\n"
          ]
        },
        {
          "output_type": "execute_result",
          "data": {
            "text/plain": [
              "array([[13685.445]], dtype=float32)"
            ]
          },
          "metadata": {},
          "execution_count": 16
        }
      ]
    },
    {
      "cell_type": "code",
      "source": [],
      "metadata": {
        "id": "jgn3AtsFTlp3"
      },
      "execution_count": 16,
      "outputs": []
    }
  ]
}