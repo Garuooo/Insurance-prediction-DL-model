{
  "nbformat": 4,
  "nbformat_minor": 0,
  "metadata": {
    "colab": {
      "provenance": [],
      "authorship_tag": "ABX9TyPMPrZDs2OGRKizxxGZQ3zD",
      "include_colab_link": true
    },
    "kernelspec": {
      "name": "python3",
      "display_name": "Python 3"
    },
    "language_info": {
      "name": "python"
    }
  },
  "cells": [
    {
      "cell_type": "markdown",
      "metadata": {
        "id": "view-in-github",
        "colab_type": "text"
      },
      "source": [
        "<a href=\"https://colab.research.google.com/github/Garuooo/Insurance-prediction-DL-model/blob/main/Regression_Model.ipynb\" target=\"_parent\"><img src=\"https://colab.research.google.com/assets/colab-badge.svg\" alt=\"Open In Colab\"/></a>"
      ]
    },
    {
      "cell_type": "markdown",
      "source": [
        "# 1. import the required depencies\n"
      ],
      "metadata": {
        "id": "PgJlmSO7ERHa"
      }
    },
    {
      "cell_type": "code",
      "execution_count": 18,
      "metadata": {
        "id": "6dfhXEGVDUj0"
      },
      "outputs": [],
      "source": [
        "import pandas as pd\n",
        "import numpy as np\n",
        "import tensorflow as tf\n",
        "import matplotlib.pyplot as plt\n",
        "from sklearn.model_selection import train_test_split"
      ]
    },
    {
      "cell_type": "markdown",
      "source": [
        "# 2. get and preprocess the data"
      ],
      "metadata": {
        "id": "jhxgrlALEWFT"
      }
    },
    {
      "cell_type": "code",
      "source": [
        "csv = pd.read_csv(\"https://raw.githubusercontent.com/stedy/Machine-Learning-with-R-datasets/master/insurance.csv\")\n",
        "csv"
      ],
      "metadata": {
        "colab": {
          "base_uri": "https://localhost:8080/",
          "height": 424
        },
        "id": "56uDhsJfDVYc",
        "outputId": "d23315bb-9be1-47ff-920f-3faa217ee817"
      },
      "execution_count": 19,
      "outputs": [
        {
          "output_type": "execute_result",
          "data": {
            "text/plain": [
              "      age     sex     bmi  children smoker     region      charges\n",
              "0      19  female  27.900         0    yes  southwest  16884.92400\n",
              "1      18    male  33.770         1     no  southeast   1725.55230\n",
              "2      28    male  33.000         3     no  southeast   4449.46200\n",
              "3      33    male  22.705         0     no  northwest  21984.47061\n",
              "4      32    male  28.880         0     no  northwest   3866.85520\n",
              "...   ...     ...     ...       ...    ...        ...          ...\n",
              "1333   50    male  30.970         3     no  northwest  10600.54830\n",
              "1334   18  female  31.920         0     no  northeast   2205.98080\n",
              "1335   18  female  36.850         0     no  southeast   1629.83350\n",
              "1336   21  female  25.800         0     no  southwest   2007.94500\n",
              "1337   61  female  29.070         0    yes  northwest  29141.36030\n",
              "\n",
              "[1338 rows x 7 columns]"
            ],
            "text/html": [
              "\n",
              "  <div id=\"df-74a3ade8-5e3e-4cac-b0fa-25ca848c53f1\">\n",
              "    <div class=\"colab-df-container\">\n",
              "      <div>\n",
              "<style scoped>\n",
              "    .dataframe tbody tr th:only-of-type {\n",
              "        vertical-align: middle;\n",
              "    }\n",
              "\n",
              "    .dataframe tbody tr th {\n",
              "        vertical-align: top;\n",
              "    }\n",
              "\n",
              "    .dataframe thead th {\n",
              "        text-align: right;\n",
              "    }\n",
              "</style>\n",
              "<table border=\"1\" class=\"dataframe\">\n",
              "  <thead>\n",
              "    <tr style=\"text-align: right;\">\n",
              "      <th></th>\n",
              "      <th>age</th>\n",
              "      <th>sex</th>\n",
              "      <th>bmi</th>\n",
              "      <th>children</th>\n",
              "      <th>smoker</th>\n",
              "      <th>region</th>\n",
              "      <th>charges</th>\n",
              "    </tr>\n",
              "  </thead>\n",
              "  <tbody>\n",
              "    <tr>\n",
              "      <th>0</th>\n",
              "      <td>19</td>\n",
              "      <td>female</td>\n",
              "      <td>27.900</td>\n",
              "      <td>0</td>\n",
              "      <td>yes</td>\n",
              "      <td>southwest</td>\n",
              "      <td>16884.92400</td>\n",
              "    </tr>\n",
              "    <tr>\n",
              "      <th>1</th>\n",
              "      <td>18</td>\n",
              "      <td>male</td>\n",
              "      <td>33.770</td>\n",
              "      <td>1</td>\n",
              "      <td>no</td>\n",
              "      <td>southeast</td>\n",
              "      <td>1725.55230</td>\n",
              "    </tr>\n",
              "    <tr>\n",
              "      <th>2</th>\n",
              "      <td>28</td>\n",
              "      <td>male</td>\n",
              "      <td>33.000</td>\n",
              "      <td>3</td>\n",
              "      <td>no</td>\n",
              "      <td>southeast</td>\n",
              "      <td>4449.46200</td>\n",
              "    </tr>\n",
              "    <tr>\n",
              "      <th>3</th>\n",
              "      <td>33</td>\n",
              "      <td>male</td>\n",
              "      <td>22.705</td>\n",
              "      <td>0</td>\n",
              "      <td>no</td>\n",
              "      <td>northwest</td>\n",
              "      <td>21984.47061</td>\n",
              "    </tr>\n",
              "    <tr>\n",
              "      <th>4</th>\n",
              "      <td>32</td>\n",
              "      <td>male</td>\n",
              "      <td>28.880</td>\n",
              "      <td>0</td>\n",
              "      <td>no</td>\n",
              "      <td>northwest</td>\n",
              "      <td>3866.85520</td>\n",
              "    </tr>\n",
              "    <tr>\n",
              "      <th>...</th>\n",
              "      <td>...</td>\n",
              "      <td>...</td>\n",
              "      <td>...</td>\n",
              "      <td>...</td>\n",
              "      <td>...</td>\n",
              "      <td>...</td>\n",
              "      <td>...</td>\n",
              "    </tr>\n",
              "    <tr>\n",
              "      <th>1333</th>\n",
              "      <td>50</td>\n",
              "      <td>male</td>\n",
              "      <td>30.970</td>\n",
              "      <td>3</td>\n",
              "      <td>no</td>\n",
              "      <td>northwest</td>\n",
              "      <td>10600.54830</td>\n",
              "    </tr>\n",
              "    <tr>\n",
              "      <th>1334</th>\n",
              "      <td>18</td>\n",
              "      <td>female</td>\n",
              "      <td>31.920</td>\n",
              "      <td>0</td>\n",
              "      <td>no</td>\n",
              "      <td>northeast</td>\n",
              "      <td>2205.98080</td>\n",
              "    </tr>\n",
              "    <tr>\n",
              "      <th>1335</th>\n",
              "      <td>18</td>\n",
              "      <td>female</td>\n",
              "      <td>36.850</td>\n",
              "      <td>0</td>\n",
              "      <td>no</td>\n",
              "      <td>southeast</td>\n",
              "      <td>1629.83350</td>\n",
              "    </tr>\n",
              "    <tr>\n",
              "      <th>1336</th>\n",
              "      <td>21</td>\n",
              "      <td>female</td>\n",
              "      <td>25.800</td>\n",
              "      <td>0</td>\n",
              "      <td>no</td>\n",
              "      <td>southwest</td>\n",
              "      <td>2007.94500</td>\n",
              "    </tr>\n",
              "    <tr>\n",
              "      <th>1337</th>\n",
              "      <td>61</td>\n",
              "      <td>female</td>\n",
              "      <td>29.070</td>\n",
              "      <td>0</td>\n",
              "      <td>yes</td>\n",
              "      <td>northwest</td>\n",
              "      <td>29141.36030</td>\n",
              "    </tr>\n",
              "  </tbody>\n",
              "</table>\n",
              "<p>1338 rows × 7 columns</p>\n",
              "</div>\n",
              "      <button class=\"colab-df-convert\" onclick=\"convertToInteractive('df-74a3ade8-5e3e-4cac-b0fa-25ca848c53f1')\"\n",
              "              title=\"Convert this dataframe to an interactive table.\"\n",
              "              style=\"display:none;\">\n",
              "        \n",
              "  <svg xmlns=\"http://www.w3.org/2000/svg\" height=\"24px\"viewBox=\"0 0 24 24\"\n",
              "       width=\"24px\">\n",
              "    <path d=\"M0 0h24v24H0V0z\" fill=\"none\"/>\n",
              "    <path d=\"M18.56 5.44l.94 2.06.94-2.06 2.06-.94-2.06-.94-.94-2.06-.94 2.06-2.06.94zm-11 1L8.5 8.5l.94-2.06 2.06-.94-2.06-.94L8.5 2.5l-.94 2.06-2.06.94zm10 10l.94 2.06.94-2.06 2.06-.94-2.06-.94-.94-2.06-.94 2.06-2.06.94z\"/><path d=\"M17.41 7.96l-1.37-1.37c-.4-.4-.92-.59-1.43-.59-.52 0-1.04.2-1.43.59L10.3 9.45l-7.72 7.72c-.78.78-.78 2.05 0 2.83L4 21.41c.39.39.9.59 1.41.59.51 0 1.02-.2 1.41-.59l7.78-7.78 2.81-2.81c.8-.78.8-2.07 0-2.86zM5.41 20L4 18.59l7.72-7.72 1.47 1.35L5.41 20z\"/>\n",
              "  </svg>\n",
              "      </button>\n",
              "      \n",
              "  <style>\n",
              "    .colab-df-container {\n",
              "      display:flex;\n",
              "      flex-wrap:wrap;\n",
              "      gap: 12px;\n",
              "    }\n",
              "\n",
              "    .colab-df-convert {\n",
              "      background-color: #E8F0FE;\n",
              "      border: none;\n",
              "      border-radius: 50%;\n",
              "      cursor: pointer;\n",
              "      display: none;\n",
              "      fill: #1967D2;\n",
              "      height: 32px;\n",
              "      padding: 0 0 0 0;\n",
              "      width: 32px;\n",
              "    }\n",
              "\n",
              "    .colab-df-convert:hover {\n",
              "      background-color: #E2EBFA;\n",
              "      box-shadow: 0px 1px 2px rgba(60, 64, 67, 0.3), 0px 1px 3px 1px rgba(60, 64, 67, 0.15);\n",
              "      fill: #174EA6;\n",
              "    }\n",
              "\n",
              "    [theme=dark] .colab-df-convert {\n",
              "      background-color: #3B4455;\n",
              "      fill: #D2E3FC;\n",
              "    }\n",
              "\n",
              "    [theme=dark] .colab-df-convert:hover {\n",
              "      background-color: #434B5C;\n",
              "      box-shadow: 0px 1px 3px 1px rgba(0, 0, 0, 0.15);\n",
              "      filter: drop-shadow(0px 1px 2px rgba(0, 0, 0, 0.3));\n",
              "      fill: #FFFFFF;\n",
              "    }\n",
              "  </style>\n",
              "\n",
              "      <script>\n",
              "        const buttonEl =\n",
              "          document.querySelector('#df-74a3ade8-5e3e-4cac-b0fa-25ca848c53f1 button.colab-df-convert');\n",
              "        buttonEl.style.display =\n",
              "          google.colab.kernel.accessAllowed ? 'block' : 'none';\n",
              "\n",
              "        async function convertToInteractive(key) {\n",
              "          const element = document.querySelector('#df-74a3ade8-5e3e-4cac-b0fa-25ca848c53f1');\n",
              "          const dataTable =\n",
              "            await google.colab.kernel.invokeFunction('convertToInteractive',\n",
              "                                                     [key], {});\n",
              "          if (!dataTable) return;\n",
              "\n",
              "          const docLinkHtml = 'Like what you see? Visit the ' +\n",
              "            '<a target=\"_blank\" href=https://colab.research.google.com/notebooks/data_table.ipynb>data table notebook</a>'\n",
              "            + ' to learn more about interactive tables.';\n",
              "          element.innerHTML = '';\n",
              "          dataTable['output_type'] = 'display_data';\n",
              "          await google.colab.output.renderOutput(dataTable, element);\n",
              "          const docLink = document.createElement('div');\n",
              "          docLink.innerHTML = docLinkHtml;\n",
              "          element.appendChild(docLink);\n",
              "        }\n",
              "      </script>\n",
              "    </div>\n",
              "  </div>\n",
              "  "
            ]
          },
          "metadata": {},
          "execution_count": 19
        }
      ]
    },
    {
      "cell_type": "code",
      "source": [
        "# normalize the data\n",
        "csv[\"bmi\"] = csv[\"bmi\"] / csv['bmi'].max()\n",
        "csv[\"age\"] = csv[\"age\"] / 100\n",
        "max_charges= csv['charges'].max()\n",
        "csv[\"charges\"] = csv[\"charges\"]/max_charges"
      ],
      "metadata": {
        "id": "hbHkxbNHDWh0"
      },
      "execution_count": 20,
      "outputs": []
    },
    {
      "cell_type": "code",
      "source": [
        "# do one hot encoding\n",
        "csv= pd.get_dummies(csv)"
      ],
      "metadata": {
        "id": "1loDAvHFDd9O"
      },
      "execution_count": 21,
      "outputs": []
    },
    {
      "cell_type": "code",
      "source": [
        "csv"
      ],
      "metadata": {
        "colab": {
          "base_uri": "https://localhost:8080/",
          "height": 424
        },
        "id": "TFKtED2fDlkV",
        "outputId": "b0a9587c-25c9-4bdc-de11-f672d428ee48"
      },
      "execution_count": 22,
      "outputs": [
        {
          "output_type": "execute_result",
          "data": {
            "text/plain": [
              "       age       bmi  children   charges  sex_female  sex_male  smoker_no  \\\n",
              "0     0.19  0.525127         0  0.264777           1         0          0   \n",
              "1     0.18  0.635611         1  0.027059           0         1          1   \n",
              "2     0.28  0.621118         3  0.069773           0         1          1   \n",
              "3     0.33  0.427348         0  0.344744           0         1          1   \n",
              "4     0.32  0.543572         0  0.060637           0         1          1   \n",
              "...    ...       ...       ...       ...         ...       ...        ...   \n",
              "1333  0.50  0.582910         3  0.166230           0         1          1   \n",
              "1334  0.18  0.600791         0  0.034593           1         0          1   \n",
              "1335  0.18  0.693582         0  0.025558           1         0          1   \n",
              "1336  0.21  0.485601         0  0.031487           1         0          1   \n",
              "1337  0.61  0.547149         0  0.456973           1         0          0   \n",
              "\n",
              "      smoker_yes  region_northeast  region_northwest  region_southeast  \\\n",
              "0              1                 0                 0                 0   \n",
              "1              0                 0                 0                 1   \n",
              "2              0                 0                 0                 1   \n",
              "3              0                 0                 1                 0   \n",
              "4              0                 0                 1                 0   \n",
              "...          ...               ...               ...               ...   \n",
              "1333           0                 0                 1                 0   \n",
              "1334           0                 1                 0                 0   \n",
              "1335           0                 0                 0                 1   \n",
              "1336           0                 0                 0                 0   \n",
              "1337           1                 0                 1                 0   \n",
              "\n",
              "      region_southwest  \n",
              "0                    1  \n",
              "1                    0  \n",
              "2                    0  \n",
              "3                    0  \n",
              "4                    0  \n",
              "...                ...  \n",
              "1333                 0  \n",
              "1334                 0  \n",
              "1335                 0  \n",
              "1336                 1  \n",
              "1337                 0  \n",
              "\n",
              "[1338 rows x 12 columns]"
            ],
            "text/html": [
              "\n",
              "  <div id=\"df-9ddafa21-0c5f-40a2-a53a-e73cf3009336\">\n",
              "    <div class=\"colab-df-container\">\n",
              "      <div>\n",
              "<style scoped>\n",
              "    .dataframe tbody tr th:only-of-type {\n",
              "        vertical-align: middle;\n",
              "    }\n",
              "\n",
              "    .dataframe tbody tr th {\n",
              "        vertical-align: top;\n",
              "    }\n",
              "\n",
              "    .dataframe thead th {\n",
              "        text-align: right;\n",
              "    }\n",
              "</style>\n",
              "<table border=\"1\" class=\"dataframe\">\n",
              "  <thead>\n",
              "    <tr style=\"text-align: right;\">\n",
              "      <th></th>\n",
              "      <th>age</th>\n",
              "      <th>bmi</th>\n",
              "      <th>children</th>\n",
              "      <th>charges</th>\n",
              "      <th>sex_female</th>\n",
              "      <th>sex_male</th>\n",
              "      <th>smoker_no</th>\n",
              "      <th>smoker_yes</th>\n",
              "      <th>region_northeast</th>\n",
              "      <th>region_northwest</th>\n",
              "      <th>region_southeast</th>\n",
              "      <th>region_southwest</th>\n",
              "    </tr>\n",
              "  </thead>\n",
              "  <tbody>\n",
              "    <tr>\n",
              "      <th>0</th>\n",
              "      <td>0.19</td>\n",
              "      <td>0.525127</td>\n",
              "      <td>0</td>\n",
              "      <td>0.264777</td>\n",
              "      <td>1</td>\n",
              "      <td>0</td>\n",
              "      <td>0</td>\n",
              "      <td>1</td>\n",
              "      <td>0</td>\n",
              "      <td>0</td>\n",
              "      <td>0</td>\n",
              "      <td>1</td>\n",
              "    </tr>\n",
              "    <tr>\n",
              "      <th>1</th>\n",
              "      <td>0.18</td>\n",
              "      <td>0.635611</td>\n",
              "      <td>1</td>\n",
              "      <td>0.027059</td>\n",
              "      <td>0</td>\n",
              "      <td>1</td>\n",
              "      <td>1</td>\n",
              "      <td>0</td>\n",
              "      <td>0</td>\n",
              "      <td>0</td>\n",
              "      <td>1</td>\n",
              "      <td>0</td>\n",
              "    </tr>\n",
              "    <tr>\n",
              "      <th>2</th>\n",
              "      <td>0.28</td>\n",
              "      <td>0.621118</td>\n",
              "      <td>3</td>\n",
              "      <td>0.069773</td>\n",
              "      <td>0</td>\n",
              "      <td>1</td>\n",
              "      <td>1</td>\n",
              "      <td>0</td>\n",
              "      <td>0</td>\n",
              "      <td>0</td>\n",
              "      <td>1</td>\n",
              "      <td>0</td>\n",
              "    </tr>\n",
              "    <tr>\n",
              "      <th>3</th>\n",
              "      <td>0.33</td>\n",
              "      <td>0.427348</td>\n",
              "      <td>0</td>\n",
              "      <td>0.344744</td>\n",
              "      <td>0</td>\n",
              "      <td>1</td>\n",
              "      <td>1</td>\n",
              "      <td>0</td>\n",
              "      <td>0</td>\n",
              "      <td>1</td>\n",
              "      <td>0</td>\n",
              "      <td>0</td>\n",
              "    </tr>\n",
              "    <tr>\n",
              "      <th>4</th>\n",
              "      <td>0.32</td>\n",
              "      <td>0.543572</td>\n",
              "      <td>0</td>\n",
              "      <td>0.060637</td>\n",
              "      <td>0</td>\n",
              "      <td>1</td>\n",
              "      <td>1</td>\n",
              "      <td>0</td>\n",
              "      <td>0</td>\n",
              "      <td>1</td>\n",
              "      <td>0</td>\n",
              "      <td>0</td>\n",
              "    </tr>\n",
              "    <tr>\n",
              "      <th>...</th>\n",
              "      <td>...</td>\n",
              "      <td>...</td>\n",
              "      <td>...</td>\n",
              "      <td>...</td>\n",
              "      <td>...</td>\n",
              "      <td>...</td>\n",
              "      <td>...</td>\n",
              "      <td>...</td>\n",
              "      <td>...</td>\n",
              "      <td>...</td>\n",
              "      <td>...</td>\n",
              "      <td>...</td>\n",
              "    </tr>\n",
              "    <tr>\n",
              "      <th>1333</th>\n",
              "      <td>0.50</td>\n",
              "      <td>0.582910</td>\n",
              "      <td>3</td>\n",
              "      <td>0.166230</td>\n",
              "      <td>0</td>\n",
              "      <td>1</td>\n",
              "      <td>1</td>\n",
              "      <td>0</td>\n",
              "      <td>0</td>\n",
              "      <td>1</td>\n",
              "      <td>0</td>\n",
              "      <td>0</td>\n",
              "    </tr>\n",
              "    <tr>\n",
              "      <th>1334</th>\n",
              "      <td>0.18</td>\n",
              "      <td>0.600791</td>\n",
              "      <td>0</td>\n",
              "      <td>0.034593</td>\n",
              "      <td>1</td>\n",
              "      <td>0</td>\n",
              "      <td>1</td>\n",
              "      <td>0</td>\n",
              "      <td>1</td>\n",
              "      <td>0</td>\n",
              "      <td>0</td>\n",
              "      <td>0</td>\n",
              "    </tr>\n",
              "    <tr>\n",
              "      <th>1335</th>\n",
              "      <td>0.18</td>\n",
              "      <td>0.693582</td>\n",
              "      <td>0</td>\n",
              "      <td>0.025558</td>\n",
              "      <td>1</td>\n",
              "      <td>0</td>\n",
              "      <td>1</td>\n",
              "      <td>0</td>\n",
              "      <td>0</td>\n",
              "      <td>0</td>\n",
              "      <td>1</td>\n",
              "      <td>0</td>\n",
              "    </tr>\n",
              "    <tr>\n",
              "      <th>1336</th>\n",
              "      <td>0.21</td>\n",
              "      <td>0.485601</td>\n",
              "      <td>0</td>\n",
              "      <td>0.031487</td>\n",
              "      <td>1</td>\n",
              "      <td>0</td>\n",
              "      <td>1</td>\n",
              "      <td>0</td>\n",
              "      <td>0</td>\n",
              "      <td>0</td>\n",
              "      <td>0</td>\n",
              "      <td>1</td>\n",
              "    </tr>\n",
              "    <tr>\n",
              "      <th>1337</th>\n",
              "      <td>0.61</td>\n",
              "      <td>0.547149</td>\n",
              "      <td>0</td>\n",
              "      <td>0.456973</td>\n",
              "      <td>1</td>\n",
              "      <td>0</td>\n",
              "      <td>0</td>\n",
              "      <td>1</td>\n",
              "      <td>0</td>\n",
              "      <td>1</td>\n",
              "      <td>0</td>\n",
              "      <td>0</td>\n",
              "    </tr>\n",
              "  </tbody>\n",
              "</table>\n",
              "<p>1338 rows × 12 columns</p>\n",
              "</div>\n",
              "      <button class=\"colab-df-convert\" onclick=\"convertToInteractive('df-9ddafa21-0c5f-40a2-a53a-e73cf3009336')\"\n",
              "              title=\"Convert this dataframe to an interactive table.\"\n",
              "              style=\"display:none;\">\n",
              "        \n",
              "  <svg xmlns=\"http://www.w3.org/2000/svg\" height=\"24px\"viewBox=\"0 0 24 24\"\n",
              "       width=\"24px\">\n",
              "    <path d=\"M0 0h24v24H0V0z\" fill=\"none\"/>\n",
              "    <path d=\"M18.56 5.44l.94 2.06.94-2.06 2.06-.94-2.06-.94-.94-2.06-.94 2.06-2.06.94zm-11 1L8.5 8.5l.94-2.06 2.06-.94-2.06-.94L8.5 2.5l-.94 2.06-2.06.94zm10 10l.94 2.06.94-2.06 2.06-.94-2.06-.94-.94-2.06-.94 2.06-2.06.94z\"/><path d=\"M17.41 7.96l-1.37-1.37c-.4-.4-.92-.59-1.43-.59-.52 0-1.04.2-1.43.59L10.3 9.45l-7.72 7.72c-.78.78-.78 2.05 0 2.83L4 21.41c.39.39.9.59 1.41.59.51 0 1.02-.2 1.41-.59l7.78-7.78 2.81-2.81c.8-.78.8-2.07 0-2.86zM5.41 20L4 18.59l7.72-7.72 1.47 1.35L5.41 20z\"/>\n",
              "  </svg>\n",
              "      </button>\n",
              "      \n",
              "  <style>\n",
              "    .colab-df-container {\n",
              "      display:flex;\n",
              "      flex-wrap:wrap;\n",
              "      gap: 12px;\n",
              "    }\n",
              "\n",
              "    .colab-df-convert {\n",
              "      background-color: #E8F0FE;\n",
              "      border: none;\n",
              "      border-radius: 50%;\n",
              "      cursor: pointer;\n",
              "      display: none;\n",
              "      fill: #1967D2;\n",
              "      height: 32px;\n",
              "      padding: 0 0 0 0;\n",
              "      width: 32px;\n",
              "    }\n",
              "\n",
              "    .colab-df-convert:hover {\n",
              "      background-color: #E2EBFA;\n",
              "      box-shadow: 0px 1px 2px rgba(60, 64, 67, 0.3), 0px 1px 3px 1px rgba(60, 64, 67, 0.15);\n",
              "      fill: #174EA6;\n",
              "    }\n",
              "\n",
              "    [theme=dark] .colab-df-convert {\n",
              "      background-color: #3B4455;\n",
              "      fill: #D2E3FC;\n",
              "    }\n",
              "\n",
              "    [theme=dark] .colab-df-convert:hover {\n",
              "      background-color: #434B5C;\n",
              "      box-shadow: 0px 1px 3px 1px rgba(0, 0, 0, 0.15);\n",
              "      filter: drop-shadow(0px 1px 2px rgba(0, 0, 0, 0.3));\n",
              "      fill: #FFFFFF;\n",
              "    }\n",
              "  </style>\n",
              "\n",
              "      <script>\n",
              "        const buttonEl =\n",
              "          document.querySelector('#df-9ddafa21-0c5f-40a2-a53a-e73cf3009336 button.colab-df-convert');\n",
              "        buttonEl.style.display =\n",
              "          google.colab.kernel.accessAllowed ? 'block' : 'none';\n",
              "\n",
              "        async function convertToInteractive(key) {\n",
              "          const element = document.querySelector('#df-9ddafa21-0c5f-40a2-a53a-e73cf3009336');\n",
              "          const dataTable =\n",
              "            await google.colab.kernel.invokeFunction('convertToInteractive',\n",
              "                                                     [key], {});\n",
              "          if (!dataTable) return;\n",
              "\n",
              "          const docLinkHtml = 'Like what you see? Visit the ' +\n",
              "            '<a target=\"_blank\" href=https://colab.research.google.com/notebooks/data_table.ipynb>data table notebook</a>'\n",
              "            + ' to learn more about interactive tables.';\n",
              "          element.innerHTML = '';\n",
              "          dataTable['output_type'] = 'display_data';\n",
              "          await google.colab.output.renderOutput(dataTable, element);\n",
              "          const docLink = document.createElement('div');\n",
              "          docLink.innerHTML = docLinkHtml;\n",
              "          element.appendChild(docLink);\n",
              "        }\n",
              "      </script>\n",
              "    </div>\n",
              "  </div>\n",
              "  "
            ]
          },
          "metadata": {},
          "execution_count": 22
        }
      ]
    },
    {
      "cell_type": "code",
      "source": [
        "# split the data into dependent and independent features\n",
        "X = csv.drop(\"charges\",axis=1)\n",
        "y = csv[\"charges\"]"
      ],
      "metadata": {
        "id": "FxR-PoIjD7ad"
      },
      "execution_count": 23,
      "outputs": []
    },
    {
      "cell_type": "code",
      "source": [
        "X,y"
      ],
      "metadata": {
        "colab": {
          "base_uri": "https://localhost:8080/"
        },
        "id": "Y5XjaXVnEGXb",
        "outputId": "064ec77d-5993-40a4-f8fd-11d092d51cd2"
      },
      "execution_count": 24,
      "outputs": [
        {
          "output_type": "execute_result",
          "data": {
            "text/plain": [
              "(       age       bmi  children  sex_female  sex_male  smoker_no  smoker_yes  \\\n",
              " 0     0.19  0.525127         0           1         0          0           1   \n",
              " 1     0.18  0.635611         1           0         1          1           0   \n",
              " 2     0.28  0.621118         3           0         1          1           0   \n",
              " 3     0.33  0.427348         0           0         1          1           0   \n",
              " 4     0.32  0.543572         0           0         1          1           0   \n",
              " ...    ...       ...       ...         ...       ...        ...         ...   \n",
              " 1333  0.50  0.582910         3           0         1          1           0   \n",
              " 1334  0.18  0.600791         0           1         0          1           0   \n",
              " 1335  0.18  0.693582         0           1         0          1           0   \n",
              " 1336  0.21  0.485601         0           1         0          1           0   \n",
              " 1337  0.61  0.547149         0           1         0          0           1   \n",
              " \n",
              "       region_northeast  region_northwest  region_southeast  region_southwest  \n",
              " 0                    0                 0                 0                 1  \n",
              " 1                    0                 0                 1                 0  \n",
              " 2                    0                 0                 1                 0  \n",
              " 3                    0                 1                 0                 0  \n",
              " 4                    0                 1                 0                 0  \n",
              " ...                ...               ...               ...               ...  \n",
              " 1333                 0                 1                 0                 0  \n",
              " 1334                 1                 0                 0                 0  \n",
              " 1335                 0                 0                 1                 0  \n",
              " 1336                 0                 0                 0                 1  \n",
              " 1337                 0                 1                 0                 0  \n",
              " \n",
              " [1338 rows x 11 columns], 0       0.264777\n",
              " 1       0.027059\n",
              " 2       0.069773\n",
              " 3       0.344744\n",
              " 4       0.060637\n",
              "           ...   \n",
              " 1333    0.166230\n",
              " 1334    0.034593\n",
              " 1335    0.025558\n",
              " 1336    0.031487\n",
              " 1337    0.456973\n",
              " Name: charges, Length: 1338, dtype: float64)"
            ]
          },
          "metadata": {},
          "execution_count": 24
        }
      ]
    },
    {
      "cell_type": "code",
      "source": [
        "# split the data into training and testing sets\n",
        "X_train,X_test,y_train,y_test=train_test_split(X,y,test_size=0.2,shuffle=True)"
      ],
      "metadata": {
        "id": "vdAQbqOwEKmN"
      },
      "execution_count": 25,
      "outputs": []
    },
    {
      "cell_type": "markdown",
      "source": [
        "# 3.create the Deep learning regression model\n"
      ],
      "metadata": {
        "id": "dGCXqcHfXM_a"
      }
    },
    {
      "cell_type": "markdown",
      "source": [],
      "metadata": {
        "id": "WdrRU_aJXLUQ"
      }
    },
    {
      "cell_type": "code",
      "source": [
        "model = tf.keras.Sequential([\n",
        "    tf.keras.layers.Dense(100,activation='relu'),\n",
        "    tf.keras.layers.Dense(100,activation='relu'),\n",
        "    tf.keras.layers.Dense(100,activation='relu'),\n",
        "    tf.keras.layers.Dense(10,activation='relu'),\n",
        "    tf.keras.layers.Dense(1,activation='linear')\n",
        "])\n",
        "model.compile(loss=tf.keras.losses.mae,optimizer=tf.keras.optimizers.Adam(learning_rate=0.001),metrics=['mae'])\n",
        "history = model.fit(X_train,y_train,epochs=100,validation_data=(X_test,y_test))"
      ],
      "metadata": {
        "colab": {
          "base_uri": "https://localhost:8080/"
        },
        "id": "6uJ5QaZ0E8i4",
        "outputId": "ca852ffc-3513-43e5-fa27-b06c5a3ea9cd"
      },
      "execution_count": 26,
      "outputs": [
        {
          "output_type": "stream",
          "name": "stdout",
          "text": [
            "Epoch 1/100\n",
            "34/34 [==============================] - 1s 9ms/step - loss: 0.1363 - mae: 0.1363 - val_loss: 0.0904 - val_mae: 0.0904\n",
            "Epoch 2/100\n",
            "34/34 [==============================] - 0s 5ms/step - loss: 0.0805 - mae: 0.0805 - val_loss: 0.0670 - val_mae: 0.0670\n",
            "Epoch 3/100\n",
            "34/34 [==============================] - 0s 4ms/step - loss: 0.0613 - mae: 0.0613 - val_loss: 0.0491 - val_mae: 0.0491\n",
            "Epoch 4/100\n",
            "34/34 [==============================] - 0s 4ms/step - loss: 0.0569 - mae: 0.0569 - val_loss: 0.0526 - val_mae: 0.0526\n",
            "Epoch 5/100\n",
            "34/34 [==============================] - 0s 4ms/step - loss: 0.0514 - mae: 0.0514 - val_loss: 0.0445 - val_mae: 0.0445\n",
            "Epoch 6/100\n",
            "34/34 [==============================] - 0s 4ms/step - loss: 0.0478 - mae: 0.0478 - val_loss: 0.0486 - val_mae: 0.0486\n",
            "Epoch 7/100\n",
            "34/34 [==============================] - 0s 5ms/step - loss: 0.0461 - mae: 0.0461 - val_loss: 0.0468 - val_mae: 0.0468\n",
            "Epoch 8/100\n",
            "34/34 [==============================] - 0s 4ms/step - loss: 0.0428 - mae: 0.0428 - val_loss: 0.0438 - val_mae: 0.0438\n",
            "Epoch 9/100\n",
            "34/34 [==============================] - 0s 4ms/step - loss: 0.0428 - mae: 0.0428 - val_loss: 0.0408 - val_mae: 0.0408\n",
            "Epoch 10/100\n",
            "34/34 [==============================] - 0s 5ms/step - loss: 0.0403 - mae: 0.0403 - val_loss: 0.0424 - val_mae: 0.0424\n",
            "Epoch 11/100\n",
            "34/34 [==============================] - 0s 5ms/step - loss: 0.0422 - mae: 0.0422 - val_loss: 0.0434 - val_mae: 0.0434\n",
            "Epoch 12/100\n",
            "34/34 [==============================] - 0s 5ms/step - loss: 0.0391 - mae: 0.0391 - val_loss: 0.0367 - val_mae: 0.0367\n",
            "Epoch 13/100\n",
            "34/34 [==============================] - 0s 4ms/step - loss: 0.0382 - mae: 0.0382 - val_loss: 0.0375 - val_mae: 0.0375\n",
            "Epoch 14/100\n",
            "34/34 [==============================] - 0s 5ms/step - loss: 0.0373 - mae: 0.0373 - val_loss: 0.0370 - val_mae: 0.0370\n",
            "Epoch 15/100\n",
            "34/34 [==============================] - 0s 4ms/step - loss: 0.0368 - mae: 0.0368 - val_loss: 0.0378 - val_mae: 0.0378\n",
            "Epoch 16/100\n",
            "34/34 [==============================] - 0s 5ms/step - loss: 0.0357 - mae: 0.0357 - val_loss: 0.0337 - val_mae: 0.0337\n",
            "Epoch 17/100\n",
            "34/34 [==============================] - 0s 5ms/step - loss: 0.0350 - mae: 0.0350 - val_loss: 0.0341 - val_mae: 0.0341\n",
            "Epoch 18/100\n",
            "34/34 [==============================] - 0s 5ms/step - loss: 0.0362 - mae: 0.0362 - val_loss: 0.0333 - val_mae: 0.0333\n",
            "Epoch 19/100\n",
            "34/34 [==============================] - 0s 4ms/step - loss: 0.0356 - mae: 0.0356 - val_loss: 0.0354 - val_mae: 0.0354\n",
            "Epoch 20/100\n",
            "34/34 [==============================] - 0s 5ms/step - loss: 0.0359 - mae: 0.0359 - val_loss: 0.0334 - val_mae: 0.0334\n",
            "Epoch 21/100\n",
            "34/34 [==============================] - 0s 4ms/step - loss: 0.0354 - mae: 0.0354 - val_loss: 0.0319 - val_mae: 0.0319\n",
            "Epoch 22/100\n",
            "34/34 [==============================] - 0s 5ms/step - loss: 0.0354 - mae: 0.0354 - val_loss: 0.0377 - val_mae: 0.0377\n",
            "Epoch 23/100\n",
            "34/34 [==============================] - 0s 4ms/step - loss: 0.0400 - mae: 0.0400 - val_loss: 0.0352 - val_mae: 0.0352\n",
            "Epoch 24/100\n",
            "34/34 [==============================] - 0s 4ms/step - loss: 0.0350 - mae: 0.0350 - val_loss: 0.0335 - val_mae: 0.0335\n",
            "Epoch 25/100\n",
            "34/34 [==============================] - 0s 5ms/step - loss: 0.0342 - mae: 0.0342 - val_loss: 0.0313 - val_mae: 0.0313\n",
            "Epoch 26/100\n",
            "34/34 [==============================] - 0s 5ms/step - loss: 0.0345 - mae: 0.0345 - val_loss: 0.0311 - val_mae: 0.0311\n",
            "Epoch 27/100\n",
            "34/34 [==============================] - 0s 4ms/step - loss: 0.0326 - mae: 0.0326 - val_loss: 0.0310 - val_mae: 0.0310\n",
            "Epoch 28/100\n",
            "34/34 [==============================] - 0s 5ms/step - loss: 0.0322 - mae: 0.0322 - val_loss: 0.0316 - val_mae: 0.0316\n",
            "Epoch 29/100\n",
            "34/34 [==============================] - 0s 4ms/step - loss: 0.0335 - mae: 0.0335 - val_loss: 0.0328 - val_mae: 0.0328\n",
            "Epoch 30/100\n",
            "34/34 [==============================] - 0s 5ms/step - loss: 0.0325 - mae: 0.0325 - val_loss: 0.0299 - val_mae: 0.0299\n",
            "Epoch 31/100\n",
            "34/34 [==============================] - 0s 4ms/step - loss: 0.0335 - mae: 0.0335 - val_loss: 0.0295 - val_mae: 0.0295\n",
            "Epoch 32/100\n",
            "34/34 [==============================] - 0s 4ms/step - loss: 0.0324 - mae: 0.0324 - val_loss: 0.0296 - val_mae: 0.0296\n",
            "Epoch 33/100\n",
            "34/34 [==============================] - 0s 4ms/step - loss: 0.0323 - mae: 0.0323 - val_loss: 0.0313 - val_mae: 0.0313\n",
            "Epoch 34/100\n",
            "34/34 [==============================] - 0s 4ms/step - loss: 0.0317 - mae: 0.0317 - val_loss: 0.0285 - val_mae: 0.0285\n",
            "Epoch 35/100\n",
            "34/34 [==============================] - 0s 14ms/step - loss: 0.0320 - mae: 0.0320 - val_loss: 0.0302 - val_mae: 0.0302\n",
            "Epoch 36/100\n",
            "34/34 [==============================] - 0s 7ms/step - loss: 0.0348 - mae: 0.0348 - val_loss: 0.0324 - val_mae: 0.0324\n",
            "Epoch 37/100\n",
            "34/34 [==============================] - 0s 5ms/step - loss: 0.0335 - mae: 0.0335 - val_loss: 0.0352 - val_mae: 0.0352\n",
            "Epoch 38/100\n",
            "34/34 [==============================] - 0s 5ms/step - loss: 0.0322 - mae: 0.0322 - val_loss: 0.0316 - val_mae: 0.0316\n",
            "Epoch 39/100\n",
            "34/34 [==============================] - 0s 5ms/step - loss: 0.0328 - mae: 0.0328 - val_loss: 0.0302 - val_mae: 0.0302\n",
            "Epoch 40/100\n",
            "34/34 [==============================] - 0s 4ms/step - loss: 0.0316 - mae: 0.0316 - val_loss: 0.0297 - val_mae: 0.0297\n",
            "Epoch 41/100\n",
            "34/34 [==============================] - 0s 5ms/step - loss: 0.0315 - mae: 0.0315 - val_loss: 0.0317 - val_mae: 0.0317\n",
            "Epoch 42/100\n",
            "34/34 [==============================] - 0s 5ms/step - loss: 0.0310 - mae: 0.0310 - val_loss: 0.0286 - val_mae: 0.0286\n",
            "Epoch 43/100\n",
            "34/34 [==============================] - 0s 5ms/step - loss: 0.0307 - mae: 0.0307 - val_loss: 0.0313 - val_mae: 0.0313\n",
            "Epoch 44/100\n",
            "34/34 [==============================] - 0s 5ms/step - loss: 0.0306 - mae: 0.0306 - val_loss: 0.0321 - val_mae: 0.0321\n",
            "Epoch 45/100\n",
            "34/34 [==============================] - 0s 5ms/step - loss: 0.0308 - mae: 0.0308 - val_loss: 0.0295 - val_mae: 0.0295\n",
            "Epoch 46/100\n",
            "34/34 [==============================] - 0s 4ms/step - loss: 0.0302 - mae: 0.0302 - val_loss: 0.0317 - val_mae: 0.0317\n",
            "Epoch 47/100\n",
            "34/34 [==============================] - 0s 4ms/step - loss: 0.0332 - mae: 0.0332 - val_loss: 0.0290 - val_mae: 0.0290\n",
            "Epoch 48/100\n",
            "34/34 [==============================] - 0s 4ms/step - loss: 0.0329 - mae: 0.0329 - val_loss: 0.0304 - val_mae: 0.0304\n",
            "Epoch 49/100\n",
            "34/34 [==============================] - 0s 5ms/step - loss: 0.0305 - mae: 0.0305 - val_loss: 0.0304 - val_mae: 0.0304\n",
            "Epoch 50/100\n",
            "34/34 [==============================] - 0s 4ms/step - loss: 0.0314 - mae: 0.0314 - val_loss: 0.0305 - val_mae: 0.0305\n",
            "Epoch 51/100\n",
            "34/34 [==============================] - 0s 5ms/step - loss: 0.0299 - mae: 0.0299 - val_loss: 0.0264 - val_mae: 0.0264\n",
            "Epoch 52/100\n",
            "34/34 [==============================] - 0s 5ms/step - loss: 0.0296 - mae: 0.0296 - val_loss: 0.0279 - val_mae: 0.0279\n",
            "Epoch 53/100\n",
            "34/34 [==============================] - 0s 4ms/step - loss: 0.0292 - mae: 0.0292 - val_loss: 0.0280 - val_mae: 0.0280\n",
            "Epoch 54/100\n",
            "34/34 [==============================] - 0s 4ms/step - loss: 0.0291 - mae: 0.0291 - val_loss: 0.0304 - val_mae: 0.0304\n",
            "Epoch 55/100\n",
            "34/34 [==============================] - 0s 4ms/step - loss: 0.0306 - mae: 0.0306 - val_loss: 0.0297 - val_mae: 0.0297\n",
            "Epoch 56/100\n",
            "34/34 [==============================] - 0s 4ms/step - loss: 0.0304 - mae: 0.0304 - val_loss: 0.0282 - val_mae: 0.0282\n",
            "Epoch 57/100\n",
            "34/34 [==============================] - 0s 5ms/step - loss: 0.0294 - mae: 0.0294 - val_loss: 0.0268 - val_mae: 0.0268\n",
            "Epoch 58/100\n",
            "34/34 [==============================] - 0s 5ms/step - loss: 0.0302 - mae: 0.0302 - val_loss: 0.0295 - val_mae: 0.0295\n",
            "Epoch 59/100\n",
            "34/34 [==============================] - 0s 5ms/step - loss: 0.0292 - mae: 0.0292 - val_loss: 0.0283 - val_mae: 0.0283\n",
            "Epoch 60/100\n",
            "34/34 [==============================] - 0s 4ms/step - loss: 0.0299 - mae: 0.0299 - val_loss: 0.0301 - val_mae: 0.0301\n",
            "Epoch 61/100\n",
            "34/34 [==============================] - 0s 5ms/step - loss: 0.0293 - mae: 0.0293 - val_loss: 0.0259 - val_mae: 0.0259\n",
            "Epoch 62/100\n",
            "34/34 [==============================] - 0s 4ms/step - loss: 0.0291 - mae: 0.0291 - val_loss: 0.0291 - val_mae: 0.0291\n",
            "Epoch 63/100\n",
            "34/34 [==============================] - 0s 5ms/step - loss: 0.0289 - mae: 0.0289 - val_loss: 0.0277 - val_mae: 0.0277\n",
            "Epoch 64/100\n",
            "34/34 [==============================] - 0s 5ms/step - loss: 0.0283 - mae: 0.0283 - val_loss: 0.0267 - val_mae: 0.0267\n",
            "Epoch 65/100\n",
            "34/34 [==============================] - 0s 5ms/step - loss: 0.0299 - mae: 0.0299 - val_loss: 0.0329 - val_mae: 0.0329\n",
            "Epoch 66/100\n",
            "34/34 [==============================] - 0s 4ms/step - loss: 0.0329 - mae: 0.0329 - val_loss: 0.0289 - val_mae: 0.0289\n",
            "Epoch 67/100\n",
            "34/34 [==============================] - 0s 4ms/step - loss: 0.0316 - mae: 0.0316 - val_loss: 0.0289 - val_mae: 0.0289\n",
            "Epoch 68/100\n",
            "34/34 [==============================] - 0s 4ms/step - loss: 0.0298 - mae: 0.0298 - val_loss: 0.0291 - val_mae: 0.0291\n",
            "Epoch 69/100\n",
            "34/34 [==============================] - 0s 4ms/step - loss: 0.0289 - mae: 0.0289 - val_loss: 0.0266 - val_mae: 0.0266\n",
            "Epoch 70/100\n",
            "34/34 [==============================] - 0s 5ms/step - loss: 0.0288 - mae: 0.0288 - val_loss: 0.0268 - val_mae: 0.0268\n",
            "Epoch 71/100\n",
            "34/34 [==============================] - 0s 4ms/step - loss: 0.0282 - mae: 0.0282 - val_loss: 0.0285 - val_mae: 0.0285\n",
            "Epoch 72/100\n",
            "34/34 [==============================] - 0s 4ms/step - loss: 0.0281 - mae: 0.0281 - val_loss: 0.0264 - val_mae: 0.0264\n",
            "Epoch 73/100\n",
            "34/34 [==============================] - 0s 4ms/step - loss: 0.0270 - mae: 0.0270 - val_loss: 0.0269 - val_mae: 0.0269\n",
            "Epoch 74/100\n",
            "34/34 [==============================] - 0s 5ms/step - loss: 0.0279 - mae: 0.0279 - val_loss: 0.0278 - val_mae: 0.0278\n",
            "Epoch 75/100\n",
            "34/34 [==============================] - 0s 4ms/step - loss: 0.0295 - mae: 0.0295 - val_loss: 0.0289 - val_mae: 0.0289\n",
            "Epoch 76/100\n",
            "34/34 [==============================] - 0s 5ms/step - loss: 0.0287 - mae: 0.0287 - val_loss: 0.0274 - val_mae: 0.0274\n",
            "Epoch 77/100\n",
            "34/34 [==============================] - 0s 4ms/step - loss: 0.0282 - mae: 0.0282 - val_loss: 0.0250 - val_mae: 0.0250\n",
            "Epoch 78/100\n",
            "34/34 [==============================] - 0s 4ms/step - loss: 0.0278 - mae: 0.0278 - val_loss: 0.0248 - val_mae: 0.0248\n",
            "Epoch 79/100\n",
            "34/34 [==============================] - 0s 4ms/step - loss: 0.0295 - mae: 0.0295 - val_loss: 0.0279 - val_mae: 0.0279\n",
            "Epoch 80/100\n",
            "34/34 [==============================] - 0s 5ms/step - loss: 0.0311 - mae: 0.0311 - val_loss: 0.0278 - val_mae: 0.0278\n",
            "Epoch 81/100\n",
            "34/34 [==============================] - 0s 4ms/step - loss: 0.0295 - mae: 0.0295 - val_loss: 0.0271 - val_mae: 0.0271\n",
            "Epoch 82/100\n",
            "34/34 [==============================] - 0s 4ms/step - loss: 0.0285 - mae: 0.0285 - val_loss: 0.0295 - val_mae: 0.0295\n",
            "Epoch 83/100\n",
            "34/34 [==============================] - 0s 4ms/step - loss: 0.0284 - mae: 0.0284 - val_loss: 0.0253 - val_mae: 0.0253\n",
            "Epoch 84/100\n",
            "34/34 [==============================] - 0s 4ms/step - loss: 0.0270 - mae: 0.0270 - val_loss: 0.0248 - val_mae: 0.0248\n",
            "Epoch 85/100\n",
            "34/34 [==============================] - 0s 4ms/step - loss: 0.0271 - mae: 0.0271 - val_loss: 0.0271 - val_mae: 0.0271\n",
            "Epoch 86/100\n",
            "34/34 [==============================] - 0s 4ms/step - loss: 0.0271 - mae: 0.0271 - val_loss: 0.0266 - val_mae: 0.0266\n",
            "Epoch 87/100\n",
            "34/34 [==============================] - 0s 4ms/step - loss: 0.0281 - mae: 0.0281 - val_loss: 0.0260 - val_mae: 0.0260\n",
            "Epoch 88/100\n",
            "34/34 [==============================] - 0s 5ms/step - loss: 0.0273 - mae: 0.0273 - val_loss: 0.0292 - val_mae: 0.0292\n",
            "Epoch 89/100\n",
            "34/34 [==============================] - 0s 5ms/step - loss: 0.0282 - mae: 0.0282 - val_loss: 0.0268 - val_mae: 0.0268\n",
            "Epoch 90/100\n",
            "34/34 [==============================] - 0s 5ms/step - loss: 0.0288 - mae: 0.0288 - val_loss: 0.0281 - val_mae: 0.0281\n",
            "Epoch 91/100\n",
            "34/34 [==============================] - 0s 4ms/step - loss: 0.0275 - mae: 0.0275 - val_loss: 0.0256 - val_mae: 0.0256\n",
            "Epoch 92/100\n",
            "34/34 [==============================] - 0s 4ms/step - loss: 0.0264 - mae: 0.0264 - val_loss: 0.0276 - val_mae: 0.0276\n",
            "Epoch 93/100\n",
            "34/34 [==============================] - 0s 6ms/step - loss: 0.0284 - mae: 0.0284 - val_loss: 0.0264 - val_mae: 0.0264\n",
            "Epoch 94/100\n",
            "34/34 [==============================] - 0s 5ms/step - loss: 0.0267 - mae: 0.0267 - val_loss: 0.0255 - val_mae: 0.0255\n",
            "Epoch 95/100\n",
            "34/34 [==============================] - 0s 4ms/step - loss: 0.0268 - mae: 0.0268 - val_loss: 0.0258 - val_mae: 0.0258\n",
            "Epoch 96/100\n",
            "34/34 [==============================] - 0s 5ms/step - loss: 0.0289 - mae: 0.0289 - val_loss: 0.0253 - val_mae: 0.0253\n",
            "Epoch 97/100\n",
            "34/34 [==============================] - 0s 4ms/step - loss: 0.0273 - mae: 0.0273 - val_loss: 0.0249 - val_mae: 0.0249\n",
            "Epoch 98/100\n",
            "34/34 [==============================] - 0s 5ms/step - loss: 0.0281 - mae: 0.0281 - val_loss: 0.0281 - val_mae: 0.0281\n",
            "Epoch 99/100\n",
            "34/34 [==============================] - 0s 4ms/step - loss: 0.0287 - mae: 0.0287 - val_loss: 0.0238 - val_mae: 0.0238\n",
            "Epoch 100/100\n",
            "34/34 [==============================] - 0s 4ms/step - loss: 0.0291 - mae: 0.0291 - val_loss: 0.0291 - val_mae: 0.0291\n"
          ]
        }
      ]
    },
    {
      "cell_type": "code",
      "source": [
        "model.summary()"
      ],
      "metadata": {
        "colab": {
          "base_uri": "https://localhost:8080/"
        },
        "id": "b9WNDOGbGRTj",
        "outputId": "ebd0ee72-42be-43e2-b01b-2883eee0f9f9"
      },
      "execution_count": 27,
      "outputs": [
        {
          "output_type": "stream",
          "name": "stdout",
          "text": [
            "Model: \"sequential_2\"\n",
            "_________________________________________________________________\n",
            " Layer (type)                Output Shape              Param #   \n",
            "=================================================================\n",
            " dense_10 (Dense)            (None, 100)               1200      \n",
            "                                                                 \n",
            " dense_11 (Dense)            (None, 100)               10100     \n",
            "                                                                 \n",
            " dense_12 (Dense)            (None, 100)               10100     \n",
            "                                                                 \n",
            " dense_13 (Dense)            (None, 10)                1010      \n",
            "                                                                 \n",
            " dense_14 (Dense)            (None, 1)                 11        \n",
            "                                                                 \n",
            "=================================================================\n",
            "Total params: 22,421\n",
            "Trainable params: 22,421\n",
            "Non-trainable params: 0\n",
            "_________________________________________________________________\n"
          ]
        }
      ]
    },
    {
      "cell_type": "markdown",
      "source": [
        "# 4. Evaluate the Model"
      ],
      "metadata": {
        "id": "DfI8nniuUBXx"
      }
    },
    {
      "cell_type": "code",
      "source": [
        "pd.DataFrame(history.history).plot()"
      ],
      "metadata": {
        "colab": {
          "base_uri": "https://localhost:8080/",
          "height": 283
        },
        "id": "y5-HmsMwFUXO",
        "outputId": "1816a21e-f2c9-4299-9966-fa8cb621a73e"
      },
      "execution_count": 28,
      "outputs": [
        {
          "output_type": "execute_result",
          "data": {
            "text/plain": [
              "<matplotlib.axes._subplots.AxesSubplot at 0x7ff3dd880d10>"
            ]
          },
          "metadata": {},
          "execution_count": 28
        },
        {
          "output_type": "display_data",
          "data": {
            "text/plain": [
              "<Figure size 432x288 with 1 Axes>"
            ],
            "image/png": "[encoded data removed]"
          },
          "metadata": {
            "needs_background": "light"
          }
        }
      ]
    },
    {
      "cell_type": "code",
      "source": [
        "model.evaluate(X_test,y_test)"
      ],
      "metadata": {
        "colab": {
          "base_uri": "https://localhost:8080/"
        },
        "id": "Kbvhtn90FiFU",
        "outputId": "0b796368-3013-450f-c4ad-261a8793c367"
      },
      "execution_count": 29,
      "outputs": [
        {
          "output_type": "stream",
          "name": "stdout",
          "text": [
            "9/9 [==============================] - 0s 2ms/step - loss: 0.0291 - mae: 0.0291\n"
          ]
        },
        {
          "output_type": "execute_result",
          "data": {
            "text/plain": [
              "[0.029131829738616943, 0.029131829738616943]"
            ]
          },
          "metadata": {},
          "execution_count": 29
        }
      ]
    },
    {
      "cell_type": "code",
      "source": [
        "model.predict(tf.expand_dims(tf.constant(X_test)[4],axis=0))"
      ],
      "metadata": {
        "colab": {
          "base_uri": "https://localhost:8080/"
        },
        "id": "Yo5f5s9FGESl",
        "outputId": "63ae8fcd-d0f0-4766-d81d-e912b99fb4af"
      },
      "execution_count": 30,
      "outputs": [
        {
          "output_type": "stream",
          "name": "stdout",
          "text": [
            "1/1 [==============================] - 0s 66ms/step\n"
          ]
        },
        {
          "output_type": "execute_result",
          "data": {
            "text/plain": [
              "array([[0.19717744]], dtype=float32)"
            ]
          },
          "metadata": {},
          "execution_count": 30
        }
      ]
    },
    {
      "cell_type": "code",
      "source": [
        "np.array(y_test)[4]"
      ],
      "metadata": {
        "colab": {
          "base_uri": "https://localhost:8080/"
        },
        "id": "RxpXD3ZaIAM_",
        "outputId": "674a3af4-8209-49cb-b795-f0fec69edd5e"
      },
      "execution_count": 31,
      "outputs": [
        {
          "output_type": "execute_result",
          "data": {
            "text/plain": [
              "0.1997974272338587"
            ]
          },
          "metadata": {},
          "execution_count": 31
        }
      ]
    },
    {
      "cell_type": "code",
      "source": [
        "np.array(y_test)[0] * max_charges"
      ],
      "metadata": {
        "colab": {
          "base_uri": "https://localhost:8080/"
        },
        "id": "06h7ipOrIJBF",
        "outputId": "b2a1e839-b0f7-4398-e57c-1f712fe8d92e"
      },
      "execution_count": 32,
      "outputs": [
        {
          "output_type": "execute_result",
          "data": {
            "text/plain": [
              "12609.88702"
            ]
          },
          "metadata": {},
          "execution_count": 32
        }
      ]
    },
    {
      "cell_type": "code",
      "source": [
        "model.predict(tf.expand_dims(tf.constant(X_test)[0],axis=0)) * max_charges"
      ],
      "metadata": {
        "colab": {
          "base_uri": "https://localhost:8080/"
        },
        "id": "1Kd-OiyhIptc",
        "outputId": "3d546354-fc5a-4300-853c-b83a1fd4ff41"
      },
      "execution_count": 33,
      "outputs": [
        {
          "output_type": "stream",
          "name": "stdout",
          "text": [
            "1/1 [==============================] - 0s 20ms/step\n"
          ]
        },
        {
          "output_type": "execute_result",
          "data": {
            "text/plain": [
              "array([[2747.0232]], dtype=float32)"
            ]
          },
          "metadata": {},
          "execution_count": 33
        }
      ]
    },
    {
      "cell_type": "code",
      "source": [],
      "metadata": {
        "id": "jgn3AtsFTlp3"
      },
      "execution_count": 33,
      "outputs": []
    }
  ]
}